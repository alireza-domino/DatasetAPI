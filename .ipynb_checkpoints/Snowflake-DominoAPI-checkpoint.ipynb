{
 "cells": [
  {
   "cell_type": "markdown",
   "id": "e5c49284-07fb-4bd5-b4d9-cec545fed798",
   "metadata": {},
   "source": [
    "### Create Snowflake Connection\n",
    "\n",
    "#### None optional variables:\n",
    "```\n",
    "account name\n",
    "```\n",
    "\n",
    "#### Optional variables:\n",
    "```\n",
    "database:\n",
    "schema:\n",
    "warehouse:\n",
    "role:\n",
    "password:\n",
    "username:\n",
    "```\n",
    "\n",
    "#### credentials need to be certified in the UI to generate identifier"
   ]
  },
  {
   "cell_type": "markdown",
   "id": "e1c25870-7d33-4705-baf1-51d6017011c5",
   "metadata": {},
   "source": [
    "### Import Packages"
   ]
  },
  {
   "cell_type": "code",
   "execution_count": 1,
   "id": "38f598f5-0f5e-4bfd-8406-80ae16f1d4d2",
   "metadata": {},
   "outputs": [],
   "source": [
    "from domino import data_sources\n",
    "import os"
   ]
  },
  {
   "cell_type": "markdown",
   "id": "59f429e6-d74d-4f03-9703-858d8e41196f",
   "metadata": {},
   "source": [
    "### Instantiate Client"
   ]
  },
  {
   "cell_type": "code",
   "execution_count": 2,
   "id": "8193d705-fb71-4fa6-be8a-7e31ecf530b1",
   "metadata": {},
   "outputs": [
    {
     "data": {
      "text/plain": [
       "DataSourceClient(api_key='6801bae29833d8ebebfc2c957b755be181cda15ceedc3cf335f12c36fe995c90', token_file='/var/lib/domino/home/.api/token')"
      ]
     },
     "execution_count": 2,
     "metadata": {},
     "output_type": "execute_result"
    }
   ],
   "source": [
    "myClient = data_sources.DataSourceClient()\n",
    "myClient"
   ]
  },
  {
   "cell_type": "markdown",
   "id": "c343d89f-e487-4b24-a63a-5fd76bb32ab5",
   "metadata": {},
   "source": [
    "### Get Data Source"
   ]
  },
  {
   "cell_type": "code",
   "execution_count": 3,
   "id": "3b11d94a-959f-4d87-80d3-0f52a259f963",
   "metadata": {},
   "outputs": [
    {
     "data": {
      "text/plain": [
       "QueryDatasource(config={'type': 'DataSourceSnowflakeConfig', 'database': 'SNOWFLAKE_SAMPLE_DATA', 'accountName': 'rda18978', 'dataSourceType': 'SnowflakeConfig', 'schema': 'TPCH_SF1', 'warehouse': 'ALIWAREHOUSE'}, credential_type='Individual', datasource_type='SnowflakeConfig', identifier='622cea394b34ac6710742a29', name='ali-test-Snowflake', owner='ddl-alireza')"
      ]
     },
     "execution_count": 3,
     "metadata": {},
     "output_type": "execute_result"
    }
   ],
   "source": [
    "DATA_SOURCE_NAME = \"ali-test-Snowflake\"\n",
    "data_source_obj = myClient.get_datasource(DATA_SOURCE_NAME)\n",
    "data_source_obj"
   ]
  },
  {
   "cell_type": "markdown",
   "id": "971017d2-98ba-44ad-b1f5-b4fe91c5635f",
   "metadata": {},
   "source": [
    "### Identifier"
   ]
  },
  {
   "cell_type": "code",
   "execution_count": 4,
   "id": "d01f0182-aa23-43d2-afb2-030e158f8ba6",
   "metadata": {},
   "outputs": [
    {
     "data": {
      "text/plain": [
       "'622cea394b34ac6710742a29'"
      ]
     },
     "execution_count": 4,
     "metadata": {},
     "output_type": "execute_result"
    }
   ],
   "source": [
    "data_source_obj.identifier"
   ]
  },
  {
   "cell_type": "markdown",
   "id": "b8ac35e7-fec1-4932-800e-c29be7807ff9",
   "metadata": {},
   "source": [
    "### Show Query in our Data Source Table (Dataset: is defined, Schema: is define)"
   ]
  },
  {
   "cell_type": "code",
   "execution_count": 5,
   "id": "457a03f7-e871-440d-96e7-2c7a78ffc8a6",
   "metadata": {},
   "outputs": [
    {
     "data": {
      "text/plain": [
       "Result(statement='select * from LINEITEM limit 100')"
      ]
     },
     "execution_count": 5,
     "metadata": {},
     "output_type": "execute_result"
    }
   ],
   "source": [
    "res = data_source_obj.query(\"select * from LINEITEM limit 100\")\n",
    "res"
   ]
  },
  {
   "cell_type": "code",
   "execution_count": 6,
   "id": "c278b0b5-6892-4f57-80db-cfcb240af328",
   "metadata": {},
   "outputs": [
    {
     "data": {
      "text/plain": [
       "domino_data.data_sources.Result"
      ]
     },
     "execution_count": 6,
     "metadata": {},
     "output_type": "execute_result"
    }
   ],
   "source": [
    "type(res)"
   ]
  },
  {
   "cell_type": "code",
   "execution_count": 7,
   "id": "53e1cc92-ebc9-4791-8d3d-7b6a7e9d4b5d",
   "metadata": {},
   "outputs": [
    {
     "data": {
      "text/html": [
       "<div>\n",
       "<style scoped>\n",
       "    .dataframe tbody tr th:only-of-type {\n",
       "        vertical-align: middle;\n",
       "    }\n",
       "\n",
       "    .dataframe tbody tr th {\n",
       "        vertical-align: top;\n",
       "    }\n",
       "\n",
       "    .dataframe thead th {\n",
       "        text-align: right;\n",
       "    }\n",
       "</style>\n",
       "<table border=\"1\" class=\"dataframe\">\n",
       "  <thead>\n",
       "    <tr style=\"text-align: right;\">\n",
       "      <th></th>\n",
       "      <th>L_ORDERKEY</th>\n",
       "      <th>L_PARTKEY</th>\n",
       "      <th>L_SUPPKEY</th>\n",
       "      <th>L_LINENUMBER</th>\n",
       "      <th>L_QUANTITY</th>\n",
       "      <th>L_EXTENDEDPRICE</th>\n",
       "      <th>L_DISCOUNT</th>\n",
       "      <th>L_TAX</th>\n",
       "      <th>L_RETURNFLAG</th>\n",
       "      <th>L_LINESTATUS</th>\n",
       "      <th>L_SHIPDATE</th>\n",
       "      <th>L_COMMITDATE</th>\n",
       "      <th>L_RECEIPTDATE</th>\n",
       "      <th>L_SHIPINSTRUCT</th>\n",
       "      <th>L_SHIPMODE</th>\n",
       "      <th>L_COMMENT</th>\n",
       "    </tr>\n",
       "  </thead>\n",
       "  <tbody>\n",
       "    <tr>\n",
       "      <th>0</th>\n",
       "      <td>600001</td>\n",
       "      <td>112520</td>\n",
       "      <td>7543</td>\n",
       "      <td>1</td>\n",
       "      <td>27.0</td>\n",
       "      <td>41378.04</td>\n",
       "      <td>0.10</td>\n",
       "      <td>0.00</td>\n",
       "      <td>N</td>\n",
       "      <td>O</td>\n",
       "      <td>1995-11-28</td>\n",
       "      <td>1995-12-06</td>\n",
       "      <td>1995-12-06</td>\n",
       "      <td>TAKE BACK RETURN</td>\n",
       "      <td>AIR</td>\n",
       "      <td>ilent packages. final, regu</td>\n",
       "    </tr>\n",
       "    <tr>\n",
       "      <th>1</th>\n",
       "      <td>600001</td>\n",
       "      <td>114063</td>\n",
       "      <td>1597</td>\n",
       "      <td>2</td>\n",
       "      <td>8.0</td>\n",
       "      <td>8616.48</td>\n",
       "      <td>0.06</td>\n",
       "      <td>0.00</td>\n",
       "      <td>N</td>\n",
       "      <td>O</td>\n",
       "      <td>1996-02-10</td>\n",
       "      <td>1995-12-13</td>\n",
       "      <td>1996-02-29</td>\n",
       "      <td>NONE</td>\n",
       "      <td>FOB</td>\n",
       "      <td>iously special deposits. fluffily pending</td>\n",
       "    </tr>\n",
       "    <tr>\n",
       "      <th>2</th>\n",
       "      <td>600001</td>\n",
       "      <td>46739</td>\n",
       "      <td>4252</td>\n",
       "      <td>3</td>\n",
       "      <td>20.0</td>\n",
       "      <td>33714.60</td>\n",
       "      <td>0.02</td>\n",
       "      <td>0.05</td>\n",
       "      <td>N</td>\n",
       "      <td>O</td>\n",
       "      <td>1995-12-09</td>\n",
       "      <td>1996-01-10</td>\n",
       "      <td>1995-12-16</td>\n",
       "      <td>TAKE BACK RETURN</td>\n",
       "      <td>REG AIR</td>\n",
       "      <td>ully final deposits wa</td>\n",
       "    </tr>\n",
       "    <tr>\n",
       "      <th>3</th>\n",
       "      <td>600002</td>\n",
       "      <td>79540</td>\n",
       "      <td>7062</td>\n",
       "      <td>1</td>\n",
       "      <td>30.0</td>\n",
       "      <td>45586.20</td>\n",
       "      <td>0.09</td>\n",
       "      <td>0.01</td>\n",
       "      <td>R</td>\n",
       "      <td>F</td>\n",
       "      <td>1992-09-20</td>\n",
       "      <td>1992-09-29</td>\n",
       "      <td>1992-10-15</td>\n",
       "      <td>NONE</td>\n",
       "      <td>AIR</td>\n",
       "      <td>uses haggle caref</td>\n",
       "    </tr>\n",
       "    <tr>\n",
       "      <th>4</th>\n",
       "      <td>600002</td>\n",
       "      <td>24776</td>\n",
       "      <td>4777</td>\n",
       "      <td>2</td>\n",
       "      <td>8.0</td>\n",
       "      <td>13606.16</td>\n",
       "      <td>0.01</td>\n",
       "      <td>0.05</td>\n",
       "      <td>A</td>\n",
       "      <td>F</td>\n",
       "      <td>1992-10-01</td>\n",
       "      <td>1992-09-01</td>\n",
       "      <td>1992-10-05</td>\n",
       "      <td>COLLECT COD</td>\n",
       "      <td>AIR</td>\n",
       "      <td>. ironic, final theodolites run alongsi</td>\n",
       "    </tr>\n",
       "  </tbody>\n",
       "</table>\n",
       "</div>"
      ],
      "text/plain": [
       "   L_ORDERKEY  L_PARTKEY  L_SUPPKEY  L_LINENUMBER  L_QUANTITY  \\\n",
       "0      600001     112520       7543             1        27.0   \n",
       "1      600001     114063       1597             2         8.0   \n",
       "2      600001      46739       4252             3        20.0   \n",
       "3      600002      79540       7062             1        30.0   \n",
       "4      600002      24776       4777             2         8.0   \n",
       "\n",
       "   L_EXTENDEDPRICE  L_DISCOUNT  L_TAX L_RETURNFLAG L_LINESTATUS L_SHIPDATE  \\\n",
       "0         41378.04        0.10   0.00            N            O 1995-11-28   \n",
       "1          8616.48        0.06   0.00            N            O 1996-02-10   \n",
       "2         33714.60        0.02   0.05            N            O 1995-12-09   \n",
       "3         45586.20        0.09   0.01            R            F 1992-09-20   \n",
       "4         13606.16        0.01   0.05            A            F 1992-10-01   \n",
       "\n",
       "  L_COMMITDATE L_RECEIPTDATE    L_SHIPINSTRUCT L_SHIPMODE  \\\n",
       "0   1995-12-06    1995-12-06  TAKE BACK RETURN        AIR   \n",
       "1   1995-12-13    1996-02-29              NONE        FOB   \n",
       "2   1996-01-10    1995-12-16  TAKE BACK RETURN    REG AIR   \n",
       "3   1992-09-29    1992-10-15              NONE        AIR   \n",
       "4   1992-09-01    1992-10-05       COLLECT COD        AIR   \n",
       "\n",
       "                                   L_COMMENT  \n",
       "0                ilent packages. final, regu  \n",
       "1  iously special deposits. fluffily pending  \n",
       "2                     ully final deposits wa  \n",
       "3                          uses haggle caref  \n",
       "4    . ironic, final theodolites run alongsi  "
      ]
     },
     "execution_count": 7,
     "metadata": {},
     "output_type": "execute_result"
    }
   ],
   "source": [
    "df = res.to_pandas()\n",
    "df.head()"
   ]
  },
  {
   "cell_type": "markdown",
   "id": "1f2dbbb0-60f0-4c3a-baa8-f9614a605d1a",
   "metadata": {},
   "source": [
    "### Data Frame Operation"
   ]
  },
  {
   "cell_type": "code",
   "execution_count": 8,
   "id": "8d66d209-0fdf-4a61-b598-5d564b2a797a",
   "metadata": {},
   "outputs": [
    {
     "data": {
      "text/plain": [
       "24.53"
      ]
     },
     "execution_count": 8,
     "metadata": {},
     "output_type": "execute_result"
    }
   ],
   "source": [
    "COL = 'L_QUANTITY'\n",
    "df.loc[:,COL].mean()"
   ]
  },
  {
   "cell_type": "markdown",
   "id": "f43955c9-e176-4b78-ae77-d66ae33e9520",
   "metadata": {},
   "source": [
    "### Config Override"
   ]
  },
  {
   "cell_type": "code",
   "execution_count": 9,
   "id": "12dd12e7-3a6c-41d1-844a-63b027fced1a",
   "metadata": {},
   "outputs": [],
   "source": [
    "SNOW_CONF = data_sources.SnowflakeConfig(\n",
    "                        database='SNOWFLAKE_SAMPLE_DATA', \n",
    "                        schema='TPCH_SF100', \n",
    "                        warehouse='ALIWAREHOUSE', \n",
    "                        role=None, \n",
    "                        password='', \n",
    "                        username='')"
   ]
  },
  {
   "cell_type": "code",
   "execution_count": 10,
   "id": "7ac10e3c-a51a-471a-b9f5-42256c785790",
   "metadata": {},
   "outputs": [],
   "source": [
    "data_source_obj.update(SNOW_CONF)"
   ]
  },
  {
   "cell_type": "code",
   "execution_count": 11,
   "id": "86319157-0999-48ac-85d1-c54c9d482644",
   "metadata": {},
   "outputs": [
    {
     "data": {
      "text/plain": [
       "Result(statement='select * from LINEITEM limit 100')"
      ]
     },
     "execution_count": 11,
     "metadata": {},
     "output_type": "execute_result"
    }
   ],
   "source": [
    "res = data_source_obj.query(\"select * from LINEITEM limit 100\")\n",
    "res"
   ]
  },
  {
   "cell_type": "code",
   "execution_count": 12,
   "id": "d0bad2d2-bbed-4ebb-8001-e31187ef9ff0",
   "metadata": {},
   "outputs": [
    {
     "data": {
      "text/html": [
       "<div>\n",
       "<style scoped>\n",
       "    .dataframe tbody tr th:only-of-type {\n",
       "        vertical-align: middle;\n",
       "    }\n",
       "\n",
       "    .dataframe tbody tr th {\n",
       "        vertical-align: top;\n",
       "    }\n",
       "\n",
       "    .dataframe thead th {\n",
       "        text-align: right;\n",
       "    }\n",
       "</style>\n",
       "<table border=\"1\" class=\"dataframe\">\n",
       "  <thead>\n",
       "    <tr style=\"text-align: right;\">\n",
       "      <th></th>\n",
       "      <th>L_ORDERKEY</th>\n",
       "      <th>L_PARTKEY</th>\n",
       "      <th>L_SUPPKEY</th>\n",
       "      <th>L_LINENUMBER</th>\n",
       "      <th>L_QUANTITY</th>\n",
       "      <th>L_EXTENDEDPRICE</th>\n",
       "      <th>L_DISCOUNT</th>\n",
       "      <th>L_TAX</th>\n",
       "      <th>L_RETURNFLAG</th>\n",
       "      <th>L_LINESTATUS</th>\n",
       "      <th>L_SHIPDATE</th>\n",
       "      <th>L_COMMITDATE</th>\n",
       "      <th>L_RECEIPTDATE</th>\n",
       "      <th>L_SHIPINSTRUCT</th>\n",
       "      <th>L_SHIPMODE</th>\n",
       "      <th>L_COMMENT</th>\n",
       "    </tr>\n",
       "  </thead>\n",
       "  <tbody>\n",
       "    <tr>\n",
       "      <th>0</th>\n",
       "      <td>157889925</td>\n",
       "      <td>16761811</td>\n",
       "      <td>11828</td>\n",
       "      <td>4</td>\n",
       "      <td>28.0</td>\n",
       "      <td>52415.44</td>\n",
       "      <td>0.04</td>\n",
       "      <td>0.03</td>\n",
       "      <td>N</td>\n",
       "      <td>O</td>\n",
       "      <td>1998-08-16</td>\n",
       "      <td>1998-08-29</td>\n",
       "      <td>1998-08-30</td>\n",
       "      <td>NONE</td>\n",
       "      <td>TRUCK</td>\n",
       "      <td>ular dependencies acc</td>\n",
       "    </tr>\n",
       "    <tr>\n",
       "      <th>1</th>\n",
       "      <td>157724419</td>\n",
       "      <td>9670398</td>\n",
       "      <td>920408</td>\n",
       "      <td>1</td>\n",
       "      <td>29.0</td>\n",
       "      <td>39669.39</td>\n",
       "      <td>0.00</td>\n",
       "      <td>0.07</td>\n",
       "      <td>N</td>\n",
       "      <td>O</td>\n",
       "      <td>1998-08-16</td>\n",
       "      <td>1998-09-10</td>\n",
       "      <td>1998-09-05</td>\n",
       "      <td>TAKE BACK RETURN</td>\n",
       "      <td>RAIL</td>\n",
       "      <td>ial asymptotes</td>\n",
       "    </tr>\n",
       "    <tr>\n",
       "      <th>2</th>\n",
       "      <td>157579812</td>\n",
       "      <td>16378324</td>\n",
       "      <td>378325</td>\n",
       "      <td>4</td>\n",
       "      <td>34.0</td>\n",
       "      <td>47651.34</td>\n",
       "      <td>0.07</td>\n",
       "      <td>0.08</td>\n",
       "      <td>N</td>\n",
       "      <td>O</td>\n",
       "      <td>1998-08-16</td>\n",
       "      <td>1998-10-08</td>\n",
       "      <td>1998-09-03</td>\n",
       "      <td>NONE</td>\n",
       "      <td>MAIL</td>\n",
       "      <td>usly permanent deposits? car</td>\n",
       "    </tr>\n",
       "    <tr>\n",
       "      <th>3</th>\n",
       "      <td>157729094</td>\n",
       "      <td>5922812</td>\n",
       "      <td>172818</td>\n",
       "      <td>3</td>\n",
       "      <td>37.0</td>\n",
       "      <td>67877.24</td>\n",
       "      <td>0.03</td>\n",
       "      <td>0.07</td>\n",
       "      <td>N</td>\n",
       "      <td>O</td>\n",
       "      <td>1998-08-16</td>\n",
       "      <td>1998-07-01</td>\n",
       "      <td>1998-09-14</td>\n",
       "      <td>COLLECT COD</td>\n",
       "      <td>AIR</td>\n",
       "      <td>regular r</td>\n",
       "    </tr>\n",
       "    <tr>\n",
       "      <th>4</th>\n",
       "      <td>157632515</td>\n",
       "      <td>16496692</td>\n",
       "      <td>746709</td>\n",
       "      <td>3</td>\n",
       "      <td>48.0</td>\n",
       "      <td>81017.76</td>\n",
       "      <td>0.07</td>\n",
       "      <td>0.05</td>\n",
       "      <td>N</td>\n",
       "      <td>O</td>\n",
       "      <td>1998-08-16</td>\n",
       "      <td>1998-08-21</td>\n",
       "      <td>1998-09-05</td>\n",
       "      <td>TAKE BACK RETURN</td>\n",
       "      <td>TRUCK</td>\n",
       "      <td>luffily bold deposits about the fluffily</td>\n",
       "    </tr>\n",
       "  </tbody>\n",
       "</table>\n",
       "</div>"
      ],
      "text/plain": [
       "   L_ORDERKEY  L_PARTKEY  L_SUPPKEY  L_LINENUMBER  L_QUANTITY  \\\n",
       "0   157889925   16761811      11828             4        28.0   \n",
       "1   157724419    9670398     920408             1        29.0   \n",
       "2   157579812   16378324     378325             4        34.0   \n",
       "3   157729094    5922812     172818             3        37.0   \n",
       "4   157632515   16496692     746709             3        48.0   \n",
       "\n",
       "   L_EXTENDEDPRICE  L_DISCOUNT  L_TAX L_RETURNFLAG L_LINESTATUS L_SHIPDATE  \\\n",
       "0         52415.44        0.04   0.03            N            O 1998-08-16   \n",
       "1         39669.39        0.00   0.07            N            O 1998-08-16   \n",
       "2         47651.34        0.07   0.08            N            O 1998-08-16   \n",
       "3         67877.24        0.03   0.07            N            O 1998-08-16   \n",
       "4         81017.76        0.07   0.05            N            O 1998-08-16   \n",
       "\n",
       "  L_COMMITDATE L_RECEIPTDATE    L_SHIPINSTRUCT L_SHIPMODE  \\\n",
       "0   1998-08-29    1998-08-30              NONE      TRUCK   \n",
       "1   1998-09-10    1998-09-05  TAKE BACK RETURN       RAIL   \n",
       "2   1998-10-08    1998-09-03              NONE       MAIL   \n",
       "3   1998-07-01    1998-09-14       COLLECT COD        AIR   \n",
       "4   1998-08-21    1998-09-05  TAKE BACK RETURN      TRUCK   \n",
       "\n",
       "                                   L_COMMENT  \n",
       "0                      ular dependencies acc  \n",
       "1                            ial asymptotes   \n",
       "2               usly permanent deposits? car  \n",
       "3                                  regular r  \n",
       "4  luffily bold deposits about the fluffily   "
      ]
     },
     "execution_count": 12,
     "metadata": {},
     "output_type": "execute_result"
    }
   ],
   "source": [
    "df = res.to_pandas()\n",
    "df.head()"
   ]
  },
  {
   "cell_type": "markdown",
   "id": "cf791e3e-408c-4d85-a74b-cf40287b8f57",
   "metadata": {},
   "source": [
    "### Data Frame Operation"
   ]
  },
  {
   "cell_type": "code",
   "execution_count": 13,
   "id": "6d297aa0-778a-4bc8-8788-695100099603",
   "metadata": {},
   "outputs": [
    {
     "data": {
      "text/plain": [
       "27.34"
      ]
     },
     "execution_count": 13,
     "metadata": {},
     "output_type": "execute_result"
    }
   ],
   "source": [
    "COL = 'L_QUANTITY'\n",
    "df.loc[:,COL].mean()"
   ]
  }
 ],
 "metadata": {
  "kernelspec": {
   "display_name": "Python 3 (ipykernel)",
   "language": "python",
   "name": "python3"
  },
  "language_info": {
   "codemirror_mode": {
    "name": "ipython",
    "version": 3
   },
   "file_extension": ".py",
   "mimetype": "text/x-python",
   "name": "python",
   "nbconvert_exporter": "python",
   "pygments_lexer": "ipython3",
   "version": "3.8.12"
  }
 },
 "nbformat": 4,
 "nbformat_minor": 5
}
