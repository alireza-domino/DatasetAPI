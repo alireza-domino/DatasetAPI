{
 "cells": [
  {
   "cell_type": "markdown",
   "id": "e5c49284-07fb-4bd5-b4d9-cec545fed798",
   "metadata": {},
   "source": [
    "### Create Snowflake Connection\n",
    "\n",
    "\n",
    "```\n",
    "1. Data Store Selection (Snowflake)\n",
    "2. Data Source Name\n",
    "3. account name\n",
    "4. database\n",
    "5. schema\n",
    "6. warehouse\n",
    "7. role\n",
    "8. password\n",
    "9. username\n",
    "```"
   ]
  },
  {
   "cell_type": "markdown",
   "id": "e1c25870-7d33-4705-baf1-51d6017011c5",
   "metadata": {},
   "source": [
    "### Import Packages"
   ]
  },
  {
   "cell_type": "code",
   "execution_count": 1,
   "id": "38f598f5-0f5e-4bfd-8406-80ae16f1d4d2",
   "metadata": {},
   "outputs": [],
   "source": [
    "from domino import data_sources\n",
    "import os"
   ]
  },
  {
   "cell_type": "markdown",
   "id": "59f429e6-d74d-4f03-9703-858d8e41196f",
   "metadata": {},
   "source": [
    "### Instantiate Client"
   ]
  },
  {
   "cell_type": "code",
   "execution_count": 2,
   "id": "8193d705-fb71-4fa6-be8a-7e31ecf530b1",
   "metadata": {},
   "outputs": [
    {
     "data": {
      "text/plain": [
       "DataSourceClient(api_key='6801bae29833d8ebebfc2c957b755be181cda15ceedc3cf335f12c36fe995c90', token_file='/var/lib/domino/home/.api/token')"
      ]
     },
     "execution_count": 2,
     "metadata": {},
     "output_type": "execute_result"
    }
   ],
   "source": [
    "myClient = data_sources.DataSourceClient()\n",
    "myClient"
   ]
  },
  {
   "cell_type": "markdown",
   "id": "c343d89f-e487-4b24-a63a-5fd76bb32ab5",
   "metadata": {},
   "source": [
    "### Get Data Source"
   ]
  },
  {
   "cell_type": "code",
   "execution_count": 3,
   "id": "3b11d94a-959f-4d87-80d3-0f52a259f963",
   "metadata": {},
   "outputs": [
    {
     "data": {
      "text/plain": [
       "QueryDatasource(config={'type': 'DataSourceSnowflakeConfig', 'database': 'SNOWFLAKE_SAMPLE_DATA', 'accountName': 'rda18978', 'dataSourceType': 'SnowflakeConfig', 'schema': 'TPCH_SF1', 'warehouse': 'ALIWAREHOUSE'}, credential_type='Individual', datasource_type='SnowflakeConfig', identifier='622cea394b34ac6710742a29', name='ali-test-Snowflake', owner='ddl-alireza')"
      ]
     },
     "execution_count": 3,
     "metadata": {},
     "output_type": "execute_result"
    }
   ],
   "source": [
    "DATA_SOURCE_NAME = \"ali-test-Snowflake\"\n",
    "data_source_obj = myClient.get_datasource(DATA_SOURCE_NAME)\n",
    "data_source_obj"
   ]
  },
  {
   "cell_type": "markdown",
   "id": "971017d2-98ba-44ad-b1f5-b4fe91c5635f",
   "metadata": {},
   "source": [
    "### Identifier"
   ]
  },
  {
   "cell_type": "code",
   "execution_count": 4,
   "id": "d01f0182-aa23-43d2-afb2-030e158f8ba6",
   "metadata": {},
   "outputs": [
    {
     "data": {
      "text/plain": [
       "'622cea394b34ac6710742a29'"
      ]
     },
     "execution_count": 4,
     "metadata": {},
     "output_type": "execute_result"
    }
   ],
   "source": [
    "data_source_obj.identifier"
   ]
  },
  {
   "cell_type": "markdown",
   "id": "b8ac35e7-fec1-4932-800e-c29be7807ff9",
   "metadata": {},
   "source": [
    "### Show Query in our Data Source Table (Dataset: is defined, Schema: is define)"
   ]
  },
  {
   "cell_type": "code",
   "execution_count": 5,
   "id": "49e3f66c-7e9f-4b7d-9b45-b50b660a00ab",
   "metadata": {},
   "outputs": [
    {
     "data": {
      "text/html": [
       "<div>\n",
       "<style scoped>\n",
       "    .dataframe tbody tr th:only-of-type {\n",
       "        vertical-align: middle;\n",
       "    }\n",
       "\n",
       "    .dataframe tbody tr th {\n",
       "        vertical-align: top;\n",
       "    }\n",
       "\n",
       "    .dataframe thead th {\n",
       "        text-align: right;\n",
       "    }\n",
       "</style>\n",
       "<table border=\"1\" class=\"dataframe\">\n",
       "  <thead>\n",
       "    <tr style=\"text-align: right;\">\n",
       "      <th></th>\n",
       "      <th>created_on</th>\n",
       "      <th>name</th>\n",
       "      <th>database_name</th>\n",
       "      <th>schema_name</th>\n",
       "      <th>kind</th>\n",
       "      <th>comment</th>\n",
       "      <th>cluster_by</th>\n",
       "      <th>rows</th>\n",
       "      <th>bytes</th>\n",
       "      <th>owner</th>\n",
       "      <th>retention_time</th>\n",
       "      <th>automatic_clustering</th>\n",
       "      <th>change_tracking</th>\n",
       "      <th>is_external</th>\n",
       "    </tr>\n",
       "  </thead>\n",
       "  <tbody>\n",
       "    <tr>\n",
       "      <th>0</th>\n",
       "      <td>2021-11-11 20:38:34.965</td>\n",
       "      <td>CUSTOMER</td>\n",
       "      <td>SNOWFLAKE_SAMPLE_DATA</td>\n",
       "      <td>TPCH_SF1</td>\n",
       "      <td>TABLE</td>\n",
       "      <td>Customer data as defined by TPC-H</td>\n",
       "      <td></td>\n",
       "      <td>150000</td>\n",
       "      <td>10747904</td>\n",
       "      <td></td>\n",
       "      <td>1</td>\n",
       "      <td>OFF</td>\n",
       "      <td>OFF</td>\n",
       "      <td>N</td>\n",
       "    </tr>\n",
       "    <tr>\n",
       "      <th>1</th>\n",
       "      <td>2021-11-11 20:38:35.325</td>\n",
       "      <td>LINEITEM</td>\n",
       "      <td>SNOWFLAKE_SAMPLE_DATA</td>\n",
       "      <td>TPCH_SF1</td>\n",
       "      <td>TABLE</td>\n",
       "      <td>Lineitem data as defined by TPC-H</td>\n",
       "      <td></td>\n",
       "      <td>6001215</td>\n",
       "      <td>165228544</td>\n",
       "      <td></td>\n",
       "      <td>1</td>\n",
       "      <td>OFF</td>\n",
       "      <td>OFF</td>\n",
       "      <td>N</td>\n",
       "    </tr>\n",
       "    <tr>\n",
       "      <th>2</th>\n",
       "      <td>2021-11-11 20:38:35.294</td>\n",
       "      <td>NATION</td>\n",
       "      <td>SNOWFLAKE_SAMPLE_DATA</td>\n",
       "      <td>TPCH_SF1</td>\n",
       "      <td>TABLE</td>\n",
       "      <td>Nation data as defined by TPC-H</td>\n",
       "      <td></td>\n",
       "      <td>25</td>\n",
       "      <td>4096</td>\n",
       "      <td></td>\n",
       "      <td>1</td>\n",
       "      <td>OFF</td>\n",
       "      <td>OFF</td>\n",
       "      <td>N</td>\n",
       "    </tr>\n",
       "    <tr>\n",
       "      <th>3</th>\n",
       "      <td>2021-11-11 20:38:35.267</td>\n",
       "      <td>ORDERS</td>\n",
       "      <td>SNOWFLAKE_SAMPLE_DATA</td>\n",
       "      <td>TPCH_SF1</td>\n",
       "      <td>TABLE</td>\n",
       "      <td>Orders data as defined by TPC-H</td>\n",
       "      <td></td>\n",
       "      <td>1500000</td>\n",
       "      <td>42303488</td>\n",
       "      <td></td>\n",
       "      <td>1</td>\n",
       "      <td>OFF</td>\n",
       "      <td>OFF</td>\n",
       "      <td>N</td>\n",
       "    </tr>\n",
       "    <tr>\n",
       "      <th>4</th>\n",
       "      <td>2021-11-11 20:38:35.264</td>\n",
       "      <td>PART</td>\n",
       "      <td>SNOWFLAKE_SAMPLE_DATA</td>\n",
       "      <td>TPCH_SF1</td>\n",
       "      <td>TABLE</td>\n",
       "      <td>Part data as defined by TPC-H</td>\n",
       "      <td></td>\n",
       "      <td>200000</td>\n",
       "      <td>5214208</td>\n",
       "      <td></td>\n",
       "      <td>1</td>\n",
       "      <td>OFF</td>\n",
       "      <td>OFF</td>\n",
       "      <td>N</td>\n",
       "    </tr>\n",
       "    <tr>\n",
       "      <th>5</th>\n",
       "      <td>2021-11-11 20:38:35.264</td>\n",
       "      <td>PARTSUPP</td>\n",
       "      <td>SNOWFLAKE_SAMPLE_DATA</td>\n",
       "      <td>TPCH_SF1</td>\n",
       "      <td>TABLE</td>\n",
       "      <td>Partsupp data as defined by TPC-H</td>\n",
       "      <td></td>\n",
       "      <td>800000</td>\n",
       "      <td>36589568</td>\n",
       "      <td></td>\n",
       "      <td>1</td>\n",
       "      <td>OFF</td>\n",
       "      <td>OFF</td>\n",
       "      <td>N</td>\n",
       "    </tr>\n",
       "    <tr>\n",
       "      <th>6</th>\n",
       "      <td>2021-11-11 20:38:36.517</td>\n",
       "      <td>REGION</td>\n",
       "      <td>SNOWFLAKE_SAMPLE_DATA</td>\n",
       "      <td>TPCH_SF1</td>\n",
       "      <td>TABLE</td>\n",
       "      <td>Region data as defined by TPC-H</td>\n",
       "      <td></td>\n",
       "      <td>5</td>\n",
       "      <td>4096</td>\n",
       "      <td></td>\n",
       "      <td>1</td>\n",
       "      <td>OFF</td>\n",
       "      <td>OFF</td>\n",
       "      <td>N</td>\n",
       "    </tr>\n",
       "    <tr>\n",
       "      <th>7</th>\n",
       "      <td>2021-11-11 20:38:36.495</td>\n",
       "      <td>SUPPLIER</td>\n",
       "      <td>SNOWFLAKE_SAMPLE_DATA</td>\n",
       "      <td>TPCH_SF1</td>\n",
       "      <td>TABLE</td>\n",
       "      <td>Supplier data as defined by TPC-H</td>\n",
       "      <td></td>\n",
       "      <td>10000</td>\n",
       "      <td>692224</td>\n",
       "      <td></td>\n",
       "      <td>1</td>\n",
       "      <td>OFF</td>\n",
       "      <td>OFF</td>\n",
       "      <td>N</td>\n",
       "    </tr>\n",
       "  </tbody>\n",
       "</table>\n",
       "</div>"
      ],
      "text/plain": [
       "               created_on      name          database_name schema_name   kind  \\\n",
       "0 2021-11-11 20:38:34.965  CUSTOMER  SNOWFLAKE_SAMPLE_DATA    TPCH_SF1  TABLE   \n",
       "1 2021-11-11 20:38:35.325  LINEITEM  SNOWFLAKE_SAMPLE_DATA    TPCH_SF1  TABLE   \n",
       "2 2021-11-11 20:38:35.294    NATION  SNOWFLAKE_SAMPLE_DATA    TPCH_SF1  TABLE   \n",
       "3 2021-11-11 20:38:35.267    ORDERS  SNOWFLAKE_SAMPLE_DATA    TPCH_SF1  TABLE   \n",
       "4 2021-11-11 20:38:35.264      PART  SNOWFLAKE_SAMPLE_DATA    TPCH_SF1  TABLE   \n",
       "5 2021-11-11 20:38:35.264  PARTSUPP  SNOWFLAKE_SAMPLE_DATA    TPCH_SF1  TABLE   \n",
       "6 2021-11-11 20:38:36.517    REGION  SNOWFLAKE_SAMPLE_DATA    TPCH_SF1  TABLE   \n",
       "7 2021-11-11 20:38:36.495  SUPPLIER  SNOWFLAKE_SAMPLE_DATA    TPCH_SF1  TABLE   \n",
       "\n",
       "                             comment cluster_by     rows      bytes owner  \\\n",
       "0  Customer data as defined by TPC-H              150000   10747904         \n",
       "1  Lineitem data as defined by TPC-H             6001215  165228544         \n",
       "2    Nation data as defined by TPC-H                  25       4096         \n",
       "3    Orders data as defined by TPC-H             1500000   42303488         \n",
       "4      Part data as defined by TPC-H              200000    5214208         \n",
       "5  Partsupp data as defined by TPC-H              800000   36589568         \n",
       "6    Region data as defined by TPC-H                   5       4096         \n",
       "7  Supplier data as defined by TPC-H               10000     692224         \n",
       "\n",
       "  retention_time automatic_clustering change_tracking is_external  \n",
       "0              1                  OFF             OFF           N  \n",
       "1              1                  OFF             OFF           N  \n",
       "2              1                  OFF             OFF           N  \n",
       "3              1                  OFF             OFF           N  \n",
       "4              1                  OFF             OFF           N  \n",
       "5              1                  OFF             OFF           N  \n",
       "6              1                  OFF             OFF           N  \n",
       "7              1                  OFF             OFF           N  "
      ]
     },
     "execution_count": 5,
     "metadata": {},
     "output_type": "execute_result"
    }
   ],
   "source": [
    "res_table = data_source_obj.query(\"SHOW TABLES\")\n",
    "df_table = res_table.to_pandas()\n",
    "df_table"
   ]
  },
  {
   "cell_type": "code",
   "execution_count": 6,
   "id": "b2cfa9e2-e61a-4c1f-b04c-1801a4507f3a",
   "metadata": {},
   "outputs": [
    {
     "data": {
      "text/plain": [
       "'LINEITEM'"
      ]
     },
     "execution_count": 6,
     "metadata": {},
     "output_type": "execute_result"
    }
   ],
   "source": [
    "TABLE_NAME = df_table[\"name\"][1]\n",
    "TABLE_NAME"
   ]
  },
  {
   "cell_type": "code",
   "execution_count": 7,
   "id": "873aa9b5-97b6-44e0-a8ef-95a4bd94c1ad",
   "metadata": {},
   "outputs": [
    {
     "data": {
      "text/plain": [
       "Result(statement='select * from LINEITEM limit 10')"
      ]
     },
     "execution_count": 7,
     "metadata": {},
     "output_type": "execute_result"
    }
   ],
   "source": [
    "res = data_source_obj.query(\"select * from \" + TABLE_NAME +\" limit 10\")\n",
    "res"
   ]
  },
  {
   "cell_type": "code",
   "execution_count": 8,
   "id": "c278b0b5-6892-4f57-80db-cfcb240af328",
   "metadata": {},
   "outputs": [
    {
     "data": {
      "text/plain": [
       "domino_data.data_sources.Result"
      ]
     },
     "execution_count": 8,
     "metadata": {},
     "output_type": "execute_result"
    }
   ],
   "source": [
    "type(res)"
   ]
  },
  {
   "cell_type": "code",
   "execution_count": 9,
   "id": "53e1cc92-ebc9-4791-8d3d-7b6a7e9d4b5d",
   "metadata": {},
   "outputs": [
    {
     "data": {
      "text/html": [
       "<div>\n",
       "<style scoped>\n",
       "    .dataframe tbody tr th:only-of-type {\n",
       "        vertical-align: middle;\n",
       "    }\n",
       "\n",
       "    .dataframe tbody tr th {\n",
       "        vertical-align: top;\n",
       "    }\n",
       "\n",
       "    .dataframe thead th {\n",
       "        text-align: right;\n",
       "    }\n",
       "</style>\n",
       "<table border=\"1\" class=\"dataframe\">\n",
       "  <thead>\n",
       "    <tr style=\"text-align: right;\">\n",
       "      <th></th>\n",
       "      <th>L_ORDERKEY</th>\n",
       "      <th>L_PARTKEY</th>\n",
       "      <th>L_SUPPKEY</th>\n",
       "      <th>L_LINENUMBER</th>\n",
       "      <th>L_QUANTITY</th>\n",
       "      <th>L_EXTENDEDPRICE</th>\n",
       "      <th>L_DISCOUNT</th>\n",
       "      <th>L_TAX</th>\n",
       "      <th>L_RETURNFLAG</th>\n",
       "      <th>L_LINESTATUS</th>\n",
       "      <th>L_SHIPDATE</th>\n",
       "      <th>L_COMMITDATE</th>\n",
       "      <th>L_RECEIPTDATE</th>\n",
       "      <th>L_SHIPINSTRUCT</th>\n",
       "      <th>L_SHIPMODE</th>\n",
       "      <th>L_COMMENT</th>\n",
       "    </tr>\n",
       "  </thead>\n",
       "  <tbody>\n",
       "    <tr>\n",
       "      <th>0</th>\n",
       "      <td>3000001</td>\n",
       "      <td>14406</td>\n",
       "      <td>4407</td>\n",
       "      <td>1</td>\n",
       "      <td>22.0</td>\n",
       "      <td>29048.80</td>\n",
       "      <td>0.02</td>\n",
       "      <td>0.06</td>\n",
       "      <td>A</td>\n",
       "      <td>F</td>\n",
       "      <td>1993-01-31</td>\n",
       "      <td>1993-03-16</td>\n",
       "      <td>1993-02-28</td>\n",
       "      <td>DELIVER IN PERSON</td>\n",
       "      <td>AIR</td>\n",
       "      <td>uriously silent patterns across the f</td>\n",
       "    </tr>\n",
       "    <tr>\n",
       "      <th>1</th>\n",
       "      <td>3000002</td>\n",
       "      <td>34422</td>\n",
       "      <td>4423</td>\n",
       "      <td>1</td>\n",
       "      <td>45.0</td>\n",
       "      <td>61038.90</td>\n",
       "      <td>0.06</td>\n",
       "      <td>0.04</td>\n",
       "      <td>N</td>\n",
       "      <td>O</td>\n",
       "      <td>1995-09-28</td>\n",
       "      <td>1995-08-27</td>\n",
       "      <td>1995-10-15</td>\n",
       "      <td>NONE</td>\n",
       "      <td>AIR</td>\n",
       "      <td>al braids wake idly regular a</td>\n",
       "    </tr>\n",
       "    <tr>\n",
       "      <th>2</th>\n",
       "      <td>3000002</td>\n",
       "      <td>115068</td>\n",
       "      <td>91</td>\n",
       "      <td>2</td>\n",
       "      <td>48.0</td>\n",
       "      <td>51986.88</td>\n",
       "      <td>0.09</td>\n",
       "      <td>0.00</td>\n",
       "      <td>N</td>\n",
       "      <td>O</td>\n",
       "      <td>1995-09-25</td>\n",
       "      <td>1995-09-21</td>\n",
       "      <td>1995-10-01</td>\n",
       "      <td>TAKE BACK RETURN</td>\n",
       "      <td>AIR</td>\n",
       "      <td>ld requests kindle unusual platelet</td>\n",
       "    </tr>\n",
       "    <tr>\n",
       "      <th>3</th>\n",
       "      <td>3000002</td>\n",
       "      <td>147647</td>\n",
       "      <td>162</td>\n",
       "      <td>3</td>\n",
       "      <td>17.0</td>\n",
       "      <td>28808.88</td>\n",
       "      <td>0.06</td>\n",
       "      <td>0.04</td>\n",
       "      <td>N</td>\n",
       "      <td>O</td>\n",
       "      <td>1995-10-25</td>\n",
       "      <td>1995-09-22</td>\n",
       "      <td>1995-10-29</td>\n",
       "      <td>TAKE BACK RETURN</td>\n",
       "      <td>FOB</td>\n",
       "      <td>foxes across the ironic, final deposi</td>\n",
       "    </tr>\n",
       "    <tr>\n",
       "      <th>4</th>\n",
       "      <td>3000002</td>\n",
       "      <td>98797</td>\n",
       "      <td>8798</td>\n",
       "      <td>4</td>\n",
       "      <td>9.0</td>\n",
       "      <td>16162.11</td>\n",
       "      <td>0.03</td>\n",
       "      <td>0.01</td>\n",
       "      <td>N</td>\n",
       "      <td>O</td>\n",
       "      <td>1995-10-30</td>\n",
       "      <td>1995-09-17</td>\n",
       "      <td>1995-11-28</td>\n",
       "      <td>DELIVER IN PERSON</td>\n",
       "      <td>TRUCK</td>\n",
       "      <td>y special pinto beans. slyly ironic</td>\n",
       "    </tr>\n",
       "  </tbody>\n",
       "</table>\n",
       "</div>"
      ],
      "text/plain": [
       "   L_ORDERKEY  L_PARTKEY  L_SUPPKEY  L_LINENUMBER  L_QUANTITY  \\\n",
       "0     3000001      14406       4407             1        22.0   \n",
       "1     3000002      34422       4423             1        45.0   \n",
       "2     3000002     115068         91             2        48.0   \n",
       "3     3000002     147647        162             3        17.0   \n",
       "4     3000002      98797       8798             4         9.0   \n",
       "\n",
       "   L_EXTENDEDPRICE  L_DISCOUNT  L_TAX L_RETURNFLAG L_LINESTATUS L_SHIPDATE  \\\n",
       "0         29048.80        0.02   0.06            A            F 1993-01-31   \n",
       "1         61038.90        0.06   0.04            N            O 1995-09-28   \n",
       "2         51986.88        0.09   0.00            N            O 1995-09-25   \n",
       "3         28808.88        0.06   0.04            N            O 1995-10-25   \n",
       "4         16162.11        0.03   0.01            N            O 1995-10-30   \n",
       "\n",
       "  L_COMMITDATE L_RECEIPTDATE     L_SHIPINSTRUCT L_SHIPMODE  \\\n",
       "0   1993-03-16    1993-02-28  DELIVER IN PERSON        AIR   \n",
       "1   1995-08-27    1995-10-15               NONE        AIR   \n",
       "2   1995-09-21    1995-10-01   TAKE BACK RETURN        AIR   \n",
       "3   1995-09-22    1995-10-29   TAKE BACK RETURN        FOB   \n",
       "4   1995-09-17    1995-11-28  DELIVER IN PERSON      TRUCK   \n",
       "\n",
       "                               L_COMMENT  \n",
       "0  uriously silent patterns across the f  \n",
       "1          al braids wake idly regular a  \n",
       "2    ld requests kindle unusual platelet  \n",
       "3  foxes across the ironic, final deposi  \n",
       "4   y special pinto beans. slyly ironic   "
      ]
     },
     "execution_count": 9,
     "metadata": {},
     "output_type": "execute_result"
    }
   ],
   "source": [
    "df = res.to_pandas()\n",
    "df.head()"
   ]
  },
  {
   "cell_type": "markdown",
   "id": "6fd48479-e6fe-4baf-9d84-236459d005d3",
   "metadata": {},
   "source": [
    "### Query with filters on L_QUANTITY"
   ]
  },
  {
   "cell_type": "code",
   "execution_count": 10,
   "id": "f3603d96-00e6-482c-8ccd-7f8c9e76524b",
   "metadata": {},
   "outputs": [
    {
     "data": {
      "text/plain": [
       "Result(statement='SELECT * FROM LINEITEM WHERE L_QUANTITY > 20 LIMIT 10')"
      ]
     },
     "execution_count": 10,
     "metadata": {},
     "output_type": "execute_result"
    }
   ],
   "source": [
    "res = data_source_obj.query(\"SELECT * FROM \" + TABLE_NAME +\" WHERE L_QUANTITY > 20 LIMIT 10\")\n",
    "res"
   ]
  },
  {
   "cell_type": "code",
   "execution_count": 11,
   "id": "cad8e75c-c71f-4b10-84a4-93c17ba226fe",
   "metadata": {},
   "outputs": [
    {
     "data": {
      "text/html": [
       "<div>\n",
       "<style scoped>\n",
       "    .dataframe tbody tr th:only-of-type {\n",
       "        vertical-align: middle;\n",
       "    }\n",
       "\n",
       "    .dataframe tbody tr th {\n",
       "        vertical-align: top;\n",
       "    }\n",
       "\n",
       "    .dataframe thead th {\n",
       "        text-align: right;\n",
       "    }\n",
       "</style>\n",
       "<table border=\"1\" class=\"dataframe\">\n",
       "  <thead>\n",
       "    <tr style=\"text-align: right;\">\n",
       "      <th></th>\n",
       "      <th>L_ORDERKEY</th>\n",
       "      <th>L_PARTKEY</th>\n",
       "      <th>L_SUPPKEY</th>\n",
       "      <th>L_LINENUMBER</th>\n",
       "      <th>L_QUANTITY</th>\n",
       "      <th>L_EXTENDEDPRICE</th>\n",
       "      <th>L_DISCOUNT</th>\n",
       "      <th>L_TAX</th>\n",
       "      <th>L_RETURNFLAG</th>\n",
       "      <th>L_LINESTATUS</th>\n",
       "      <th>L_SHIPDATE</th>\n",
       "      <th>L_COMMITDATE</th>\n",
       "      <th>L_RECEIPTDATE</th>\n",
       "      <th>L_SHIPINSTRUCT</th>\n",
       "      <th>L_SHIPMODE</th>\n",
       "      <th>L_COMMENT</th>\n",
       "    </tr>\n",
       "  </thead>\n",
       "  <tbody>\n",
       "    <tr>\n",
       "      <th>0</th>\n",
       "      <td>1200001</td>\n",
       "      <td>36262</td>\n",
       "      <td>8766</td>\n",
       "      <td>1</td>\n",
       "      <td>31.0</td>\n",
       "      <td>37146.06</td>\n",
       "      <td>0.06</td>\n",
       "      <td>0.03</td>\n",
       "      <td>R</td>\n",
       "      <td>F</td>\n",
       "      <td>1994-05-02</td>\n",
       "      <td>1994-03-30</td>\n",
       "      <td>1994-05-11</td>\n",
       "      <td>NONE</td>\n",
       "      <td>RAIL</td>\n",
       "      <td>ular, express ins</td>\n",
       "    </tr>\n",
       "    <tr>\n",
       "      <th>1</th>\n",
       "      <td>1200001</td>\n",
       "      <td>54065</td>\n",
       "      <td>1581</td>\n",
       "      <td>2</td>\n",
       "      <td>23.0</td>\n",
       "      <td>23438.38</td>\n",
       "      <td>0.00</td>\n",
       "      <td>0.03</td>\n",
       "      <td>A</td>\n",
       "      <td>F</td>\n",
       "      <td>1994-01-26</td>\n",
       "      <td>1994-03-18</td>\n",
       "      <td>1994-02-07</td>\n",
       "      <td>DELIVER IN PERSON</td>\n",
       "      <td>SHIP</td>\n",
       "      <td>coys after the slyly even idea</td>\n",
       "    </tr>\n",
       "    <tr>\n",
       "      <th>2</th>\n",
       "      <td>1200002</td>\n",
       "      <td>167367</td>\n",
       "      <td>7368</td>\n",
       "      <td>1</td>\n",
       "      <td>40.0</td>\n",
       "      <td>57374.40</td>\n",
       "      <td>0.01</td>\n",
       "      <td>0.00</td>\n",
       "      <td>N</td>\n",
       "      <td>O</td>\n",
       "      <td>1997-03-08</td>\n",
       "      <td>1997-03-01</td>\n",
       "      <td>1997-03-15</td>\n",
       "      <td>COLLECT COD</td>\n",
       "      <td>SHIP</td>\n",
       "      <td>accounts cajole beside the furiously e</td>\n",
       "    </tr>\n",
       "    <tr>\n",
       "      <th>3</th>\n",
       "      <td>1200002</td>\n",
       "      <td>131610</td>\n",
       "      <td>9150</td>\n",
       "      <td>2</td>\n",
       "      <td>29.0</td>\n",
       "      <td>47606.69</td>\n",
       "      <td>0.01</td>\n",
       "      <td>0.01</td>\n",
       "      <td>N</td>\n",
       "      <td>O</td>\n",
       "      <td>1997-02-13</td>\n",
       "      <td>1997-01-15</td>\n",
       "      <td>1997-03-14</td>\n",
       "      <td>TAKE BACK RETURN</td>\n",
       "      <td>RAIL</td>\n",
       "      <td>e fluffily fluffily regular pin</td>\n",
       "    </tr>\n",
       "    <tr>\n",
       "      <th>4</th>\n",
       "      <td>1200002</td>\n",
       "      <td>161851</td>\n",
       "      <td>9400</td>\n",
       "      <td>3</td>\n",
       "      <td>23.0</td>\n",
       "      <td>43995.55</td>\n",
       "      <td>0.00</td>\n",
       "      <td>0.04</td>\n",
       "      <td>N</td>\n",
       "      <td>O</td>\n",
       "      <td>1997-01-17</td>\n",
       "      <td>1997-01-12</td>\n",
       "      <td>1997-02-16</td>\n",
       "      <td>COLLECT COD</td>\n",
       "      <td>TRUCK</td>\n",
       "      <td>nal platelets. regular, special Tiresias pl</td>\n",
       "    </tr>\n",
       "  </tbody>\n",
       "</table>\n",
       "</div>"
      ],
      "text/plain": [
       "   L_ORDERKEY  L_PARTKEY  L_SUPPKEY  L_LINENUMBER  L_QUANTITY  \\\n",
       "0     1200001      36262       8766             1        31.0   \n",
       "1     1200001      54065       1581             2        23.0   \n",
       "2     1200002     167367       7368             1        40.0   \n",
       "3     1200002     131610       9150             2        29.0   \n",
       "4     1200002     161851       9400             3        23.0   \n",
       "\n",
       "   L_EXTENDEDPRICE  L_DISCOUNT  L_TAX L_RETURNFLAG L_LINESTATUS L_SHIPDATE  \\\n",
       "0         37146.06        0.06   0.03            R            F 1994-05-02   \n",
       "1         23438.38        0.00   0.03            A            F 1994-01-26   \n",
       "2         57374.40        0.01   0.00            N            O 1997-03-08   \n",
       "3         47606.69        0.01   0.01            N            O 1997-02-13   \n",
       "4         43995.55        0.00   0.04            N            O 1997-01-17   \n",
       "\n",
       "  L_COMMITDATE L_RECEIPTDATE     L_SHIPINSTRUCT L_SHIPMODE  \\\n",
       "0   1994-03-30    1994-05-11               NONE       RAIL   \n",
       "1   1994-03-18    1994-02-07  DELIVER IN PERSON       SHIP   \n",
       "2   1997-03-01    1997-03-15        COLLECT COD       SHIP   \n",
       "3   1997-01-15    1997-03-14   TAKE BACK RETURN       RAIL   \n",
       "4   1997-01-12    1997-02-16        COLLECT COD      TRUCK   \n",
       "\n",
       "                                     L_COMMENT  \n",
       "0                            ular, express ins  \n",
       "1               coys after the slyly even idea  \n",
       "2       accounts cajole beside the furiously e  \n",
       "3              e fluffily fluffily regular pin  \n",
       "4  nal platelets. regular, special Tiresias pl  "
      ]
     },
     "execution_count": 11,
     "metadata": {},
     "output_type": "execute_result"
    }
   ],
   "source": [
    "df = res.to_pandas()\n",
    "df.head()"
   ]
  },
  {
   "cell_type": "markdown",
   "id": "1f2dbbb0-60f0-4c3a-baa8-f9614a605d1a",
   "metadata": {},
   "source": [
    "### Data Frame Operation"
   ]
  },
  {
   "cell_type": "code",
   "execution_count": 12,
   "id": "8d66d209-0fdf-4a61-b598-5d564b2a797a",
   "metadata": {},
   "outputs": [
    {
     "data": {
      "text/plain": [
       "34.6"
      ]
     },
     "execution_count": 12,
     "metadata": {},
     "output_type": "execute_result"
    }
   ],
   "source": [
    "COL = 'L_QUANTITY'\n",
    "df.loc[:,COL].mean()"
   ]
  },
  {
   "cell_type": "markdown",
   "id": "f43955c9-e176-4b78-ae77-d66ae33e9520",
   "metadata": {},
   "source": [
    "### Config Override"
   ]
  },
  {
   "cell_type": "code",
   "execution_count": 13,
   "id": "7ab30aad-cfa7-4f56-a43d-7cb3f548f1f5",
   "metadata": {},
   "outputs": [],
   "source": [
    "data_source_obj.update(data_sources.SnowflakeConfig(schema=\"TPCH_SF10\"))"
   ]
  },
  {
   "cell_type": "code",
   "execution_count": 14,
   "id": "2162817d-5641-4e7c-8dff-41654a288685",
   "metadata": {},
   "outputs": [
    {
     "data": {
      "text/plain": [
       "SnowflakeConfig(database=None, schema='TPCH_SF10', warehouse=None, role=None, password=None, username=None)"
      ]
     },
     "execution_count": 14,
     "metadata": {},
     "output_type": "execute_result"
    }
   ],
   "source": [
    "data_source_obj._config_override"
   ]
  },
  {
   "cell_type": "code",
   "execution_count": 15,
   "id": "2e6474fe-17a2-42cb-a2bd-fdb7eaf13bd5",
   "metadata": {},
   "outputs": [],
   "source": [
    "import json\n",
    "BASE_PATH =  r\"/home/ubuntu/\"\n",
    "with open( BASE_PATH+ 'ali_data.json') as json_file:\n",
    "    data = json.load(json_file)\n",
    "    SNOWFLAKE_USERNAME = data['SNOWFLAKE'][0]['username']\n",
    "    SNOWFLAKE_PASSWORD = data['SNOWFLAKE'][0]['password']"
   ]
  },
  {
   "cell_type": "code",
   "execution_count": 16,
   "id": "12dd12e7-3a6c-41d1-844a-63b027fced1a",
   "metadata": {},
   "outputs": [],
   "source": [
    "SNOW_CONF = data_sources.SnowflakeConfig(\n",
    "                        database='SNOWFLAKE_SAMPLE_DATA', \n",
    "                        schema='TPCH_SF100', \n",
    "                        warehouse='ALIWAREHOUSE', \n",
    "                        role=None, \n",
    "                        password=SNOWFLAKE_PASSWORD, \n",
    "                        username=SNOWFLAKE_USERNAME)\n"
   ]
  },
  {
   "cell_type": "code",
   "execution_count": 17,
   "id": "7ac10e3c-a51a-471a-b9f5-42256c785790",
   "metadata": {},
   "outputs": [],
   "source": [
    "data_source_obj.update(SNOW_CONF)"
   ]
  },
  {
   "cell_type": "code",
   "execution_count": 18,
   "id": "86319157-0999-48ac-85d1-c54c9d482644",
   "metadata": {},
   "outputs": [
    {
     "data": {
      "text/plain": [
       "Result(statement='select * from LINEITEM limit 100')"
      ]
     },
     "execution_count": 18,
     "metadata": {},
     "output_type": "execute_result"
    }
   ],
   "source": [
    "res = data_source_obj.query(\"select * from LINEITEM limit 100\")\n",
    "res"
   ]
  },
  {
   "cell_type": "code",
   "execution_count": 19,
   "id": "d0bad2d2-bbed-4ebb-8001-e31187ef9ff0",
   "metadata": {},
   "outputs": [
    {
     "data": {
      "text/html": [
       "<div>\n",
       "<style scoped>\n",
       "    .dataframe tbody tr th:only-of-type {\n",
       "        vertical-align: middle;\n",
       "    }\n",
       "\n",
       "    .dataframe tbody tr th {\n",
       "        vertical-align: top;\n",
       "    }\n",
       "\n",
       "    .dataframe thead th {\n",
       "        text-align: right;\n",
       "    }\n",
       "</style>\n",
       "<table border=\"1\" class=\"dataframe\">\n",
       "  <thead>\n",
       "    <tr style=\"text-align: right;\">\n",
       "      <th></th>\n",
       "      <th>L_ORDERKEY</th>\n",
       "      <th>L_PARTKEY</th>\n",
       "      <th>L_SUPPKEY</th>\n",
       "      <th>L_LINENUMBER</th>\n",
       "      <th>L_QUANTITY</th>\n",
       "      <th>L_EXTENDEDPRICE</th>\n",
       "      <th>L_DISCOUNT</th>\n",
       "      <th>L_TAX</th>\n",
       "      <th>L_RETURNFLAG</th>\n",
       "      <th>L_LINESTATUS</th>\n",
       "      <th>L_SHIPDATE</th>\n",
       "      <th>L_COMMITDATE</th>\n",
       "      <th>L_RECEIPTDATE</th>\n",
       "      <th>L_SHIPINSTRUCT</th>\n",
       "      <th>L_SHIPMODE</th>\n",
       "      <th>L_COMMENT</th>\n",
       "    </tr>\n",
       "  </thead>\n",
       "  <tbody>\n",
       "    <tr>\n",
       "      <th>0</th>\n",
       "      <td>469583879</td>\n",
       "      <td>1950993</td>\n",
       "      <td>950994</td>\n",
       "      <td>4</td>\n",
       "      <td>33.0</td>\n",
       "      <td>67448.70</td>\n",
       "      <td>0.04</td>\n",
       "      <td>0.03</td>\n",
       "      <td>N</td>\n",
       "      <td>O</td>\n",
       "      <td>1998-10-28</td>\n",
       "      <td>1998-09-21</td>\n",
       "      <td>1998-11-16</td>\n",
       "      <td>NONE</td>\n",
       "      <td>RAIL</td>\n",
       "      <td>en asymptotes.</td>\n",
       "    </tr>\n",
       "    <tr>\n",
       "      <th>1</th>\n",
       "      <td>469738246</td>\n",
       "      <td>9792498</td>\n",
       "      <td>792499</td>\n",
       "      <td>3</td>\n",
       "      <td>27.0</td>\n",
       "      <td>42930.27</td>\n",
       "      <td>0.10</td>\n",
       "      <td>0.00</td>\n",
       "      <td>N</td>\n",
       "      <td>O</td>\n",
       "      <td>1998-10-28</td>\n",
       "      <td>1998-09-14</td>\n",
       "      <td>1998-11-14</td>\n",
       "      <td>NONE</td>\n",
       "      <td>MAIL</td>\n",
       "      <td>frays. fin</td>\n",
       "    </tr>\n",
       "    <tr>\n",
       "      <th>2</th>\n",
       "      <td>469723778</td>\n",
       "      <td>814546</td>\n",
       "      <td>314547</td>\n",
       "      <td>3</td>\n",
       "      <td>13.0</td>\n",
       "      <td>18986.50</td>\n",
       "      <td>0.08</td>\n",
       "      <td>0.06</td>\n",
       "      <td>N</td>\n",
       "      <td>O</td>\n",
       "      <td>1998-10-28</td>\n",
       "      <td>1998-09-10</td>\n",
       "      <td>1998-11-04</td>\n",
       "      <td>TAKE BACK RETURN</td>\n",
       "      <td>RAIL</td>\n",
       "      <td>pecial acc</td>\n",
       "    </tr>\n",
       "    <tr>\n",
       "      <th>3</th>\n",
       "      <td>469844358</td>\n",
       "      <td>10620184</td>\n",
       "      <td>120205</td>\n",
       "      <td>7</td>\n",
       "      <td>30.0</td>\n",
       "      <td>33109.50</td>\n",
       "      <td>0.04</td>\n",
       "      <td>0.01</td>\n",
       "      <td>N</td>\n",
       "      <td>O</td>\n",
       "      <td>1998-10-28</td>\n",
       "      <td>1998-08-18</td>\n",
       "      <td>1998-11-25</td>\n",
       "      <td>NONE</td>\n",
       "      <td>REG AIR</td>\n",
       "      <td>arefully even theodolites-- quick</td>\n",
       "    </tr>\n",
       "    <tr>\n",
       "      <th>4</th>\n",
       "      <td>469786242</td>\n",
       "      <td>14662190</td>\n",
       "      <td>162219</td>\n",
       "      <td>2</td>\n",
       "      <td>20.0</td>\n",
       "      <td>23029.20</td>\n",
       "      <td>0.05</td>\n",
       "      <td>0.00</td>\n",
       "      <td>N</td>\n",
       "      <td>O</td>\n",
       "      <td>1998-10-28</td>\n",
       "      <td>1998-09-02</td>\n",
       "      <td>1998-11-26</td>\n",
       "      <td>TAKE BACK RETURN</td>\n",
       "      <td>MAIL</td>\n",
       "      <td>onic theodolites. slyly specia</td>\n",
       "    </tr>\n",
       "  </tbody>\n",
       "</table>\n",
       "</div>"
      ],
      "text/plain": [
       "   L_ORDERKEY  L_PARTKEY  L_SUPPKEY  L_LINENUMBER  L_QUANTITY  \\\n",
       "0   469583879    1950993     950994             4        33.0   \n",
       "1   469738246    9792498     792499             3        27.0   \n",
       "2   469723778     814546     314547             3        13.0   \n",
       "3   469844358   10620184     120205             7        30.0   \n",
       "4   469786242   14662190     162219             2        20.0   \n",
       "\n",
       "   L_EXTENDEDPRICE  L_DISCOUNT  L_TAX L_RETURNFLAG L_LINESTATUS L_SHIPDATE  \\\n",
       "0         67448.70        0.04   0.03            N            O 1998-10-28   \n",
       "1         42930.27        0.10   0.00            N            O 1998-10-28   \n",
       "2         18986.50        0.08   0.06            N            O 1998-10-28   \n",
       "3         33109.50        0.04   0.01            N            O 1998-10-28   \n",
       "4         23029.20        0.05   0.00            N            O 1998-10-28   \n",
       "\n",
       "  L_COMMITDATE L_RECEIPTDATE    L_SHIPINSTRUCT L_SHIPMODE  \\\n",
       "0   1998-09-21    1998-11-16              NONE       RAIL   \n",
       "1   1998-09-14    1998-11-14              NONE       MAIL   \n",
       "2   1998-09-10    1998-11-04  TAKE BACK RETURN       RAIL   \n",
       "3   1998-08-18    1998-11-25              NONE    REG AIR   \n",
       "4   1998-09-02    1998-11-26  TAKE BACK RETURN       MAIL   \n",
       "\n",
       "                           L_COMMENT  \n",
       "0                    en asymptotes.   \n",
       "1                         frays. fin  \n",
       "2                         pecial acc  \n",
       "3  arefully even theodolites-- quick  \n",
       "4     onic theodolites. slyly specia  "
      ]
     },
     "execution_count": 19,
     "metadata": {},
     "output_type": "execute_result"
    }
   ],
   "source": [
    "df = res.to_pandas()\n",
    "df.head()"
   ]
  },
  {
   "cell_type": "markdown",
   "id": "cf791e3e-408c-4d85-a74b-cf40287b8f57",
   "metadata": {},
   "source": [
    "### Data Frame Operation"
   ]
  },
  {
   "cell_type": "code",
   "execution_count": 20,
   "id": "6d297aa0-778a-4bc8-8788-695100099603",
   "metadata": {},
   "outputs": [
    {
     "data": {
      "text/plain": [
       "23.64"
      ]
     },
     "execution_count": 20,
     "metadata": {},
     "output_type": "execute_result"
    }
   ],
   "source": [
    "COL = 'L_QUANTITY'\n",
    "df.loc[:,COL].mean()"
   ]
  }
 ],
 "metadata": {
  "kernelspec": {
   "display_name": "Python 3 (ipykernel)",
   "language": "python",
   "name": "python3"
  },
  "language_info": {
   "codemirror_mode": {
    "name": "ipython",
    "version": 3
   },
   "file_extension": ".py",
   "mimetype": "text/x-python",
   "name": "python",
   "nbconvert_exporter": "python",
   "pygments_lexer": "ipython3",
   "version": "3.8.12"
  }
 },
 "nbformat": 4,
 "nbformat_minor": 5
}
