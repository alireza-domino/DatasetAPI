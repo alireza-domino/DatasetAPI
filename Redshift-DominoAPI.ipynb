{
 "cells": [
  {
   "cell_type": "markdown",
   "id": "e5c49284-07fb-4bd5-b4d9-cec545fed798",
   "metadata": {
    "tags": []
   },
   "source": [
    "### Create Redshift Connection\n",
    "\n",
    "```\n",
    "1. Data Store Selection (Redshift)\n",
    "2. Data Source Name\n",
    "3. database\n",
    "4. password\n",
    "5. username\n",
    "```"
   ]
  },
  {
   "cell_type": "markdown",
   "id": "e1c25870-7d33-4705-baf1-51d6017011c5",
   "metadata": {},
   "source": [
    "### Import Packages"
   ]
  },
  {
   "cell_type": "code",
   "execution_count": 1,
   "id": "38f598f5-0f5e-4bfd-8406-80ae16f1d4d2",
   "metadata": {},
   "outputs": [],
   "source": [
    "from domino import data_sources\n",
    "import os"
   ]
  },
  {
   "cell_type": "markdown",
   "id": "59f429e6-d74d-4f03-9703-858d8e41196f",
   "metadata": {},
   "source": [
    "### Instantiate Client"
   ]
  },
  {
   "cell_type": "code",
   "execution_count": 2,
   "id": "8193d705-fb71-4fa6-be8a-7e31ecf530b1",
   "metadata": {},
   "outputs": [
    {
     "data": {
      "text/plain": [
       "DataSourceClient(api_key='6801bae29833d8ebebfc2c957b755be181cda15ceedc3cf335f12c36fe995c90', token_file='/var/lib/domino/home/.api/token')"
      ]
     },
     "execution_count": 2,
     "metadata": {},
     "output_type": "execute_result"
    }
   ],
   "source": [
    "myClient = data_sources.DataSourceClient()\n",
    "myClient"
   ]
  },
  {
   "cell_type": "markdown",
   "id": "c343d89f-e487-4b24-a63a-5fd76bb32ab5",
   "metadata": {},
   "source": [
    "### Get Data Source"
   ]
  },
  {
   "cell_type": "code",
   "execution_count": 3,
   "id": "3b11d94a-959f-4d87-80d3-0f52a259f963",
   "metadata": {},
   "outputs": [
    {
     "data": {
      "text/plain": [
       "QueryDatasource(config={'type': 'DataSourceRedshiftConfig', 'dataSourceType': 'RedshiftConfig', 'host': 'redshift-cluster-regression.cen4bofhbbfl.us-west-2.redshift.amazonaws.com', 'port': '5439', 'database': 'dev'}, credential_type='Individual', datasource_type='RedshiftConfig', identifier='622f7ff14b34ac67107432ff', name='ali-test-2-redshift', owner='ddl-alireza')"
      ]
     },
     "execution_count": 3,
     "metadata": {},
     "output_type": "execute_result"
    }
   ],
   "source": [
    "DATA_SOURCE_NAME = \"ali-test-2-redshift\"\n",
    "data_source_obj = myClient.get_datasource(DATA_SOURCE_NAME)\n",
    "data_source_obj"
   ]
  },
  {
   "cell_type": "markdown",
   "id": "971017d2-98ba-44ad-b1f5-b4fe91c5635f",
   "metadata": {},
   "source": [
    "### Identifier"
   ]
  },
  {
   "cell_type": "code",
   "execution_count": 4,
   "id": "d01f0182-aa23-43d2-afb2-030e158f8ba6",
   "metadata": {},
   "outputs": [
    {
     "data": {
      "text/plain": [
       "'622f7ff14b34ac67107432ff'"
      ]
     },
     "execution_count": 4,
     "metadata": {},
     "output_type": "execute_result"
    }
   ],
   "source": [
    "data_source_obj.identifier"
   ]
  },
  {
   "cell_type": "markdown",
   "id": "b8ac35e7-fec1-4932-800e-c29be7807ff9",
   "metadata": {},
   "source": [
    "### Show Query in our Data Source Table (Dataset: is defined, Schema: is define)"
   ]
  },
  {
   "cell_type": "code",
   "execution_count": 5,
   "id": "457a03f7-e871-440d-96e7-2c7a78ffc8a6",
   "metadata": {},
   "outputs": [
    {
     "data": {
      "text/plain": [
       "Result(statement='select * from yellow_cab limit 100')"
      ]
     },
     "execution_count": 5,
     "metadata": {},
     "output_type": "execute_result"
    }
   ],
   "source": [
    "res = data_source_obj.query(\"select * from yellow_cab limit 100\")\n",
    "res"
   ]
  },
  {
   "cell_type": "code",
   "execution_count": 6,
   "id": "c278b0b5-6892-4f57-80db-cfcb240af328",
   "metadata": {},
   "outputs": [
    {
     "data": {
      "text/plain": [
       "domino_data.data_sources.Result"
      ]
     },
     "execution_count": 6,
     "metadata": {},
     "output_type": "execute_result"
    }
   ],
   "source": [
    "type(res)"
   ]
  },
  {
   "cell_type": "code",
   "execution_count": 7,
   "id": "53e1cc92-ebc9-4791-8d3d-7b6a7e9d4b5d",
   "metadata": {
    "tags": []
   },
   "outputs": [
    {
     "data": {
      "text/html": [
       "<div>\n",
       "<style scoped>\n",
       "    .dataframe tbody tr th:only-of-type {\n",
       "        vertical-align: middle;\n",
       "    }\n",
       "\n",
       "    .dataframe tbody tr th {\n",
       "        vertical-align: top;\n",
       "    }\n",
       "\n",
       "    .dataframe thead th {\n",
       "        text-align: right;\n",
       "    }\n",
       "</style>\n",
       "<table border=\"1\" class=\"dataframe\">\n",
       "  <thead>\n",
       "    <tr style=\"text-align: right;\">\n",
       "      <th></th>\n",
       "      <th>vendor_id</th>\n",
       "      <th>pickup_datetime</th>\n",
       "      <th>dropoff_datetime</th>\n",
       "      <th>passenger_count</th>\n",
       "      <th>trip_distance</th>\n",
       "      <th>ratecode_id</th>\n",
       "      <th>store_and_fwd_flag</th>\n",
       "      <th>pu_location_id</th>\n",
       "      <th>do_location_id</th>\n",
       "      <th>payment_type</th>\n",
       "      <th>fare_amount</th>\n",
       "      <th>extra</th>\n",
       "      <th>mta_tax</th>\n",
       "      <th>tip_amount</th>\n",
       "      <th>tolls_amount</th>\n",
       "      <th>improvement_surcharge</th>\n",
       "      <th>total_amount</th>\n",
       "      <th>congestion_surcharge</th>\n",
       "    </tr>\n",
       "  </thead>\n",
       "  <tbody>\n",
       "    <tr>\n",
       "      <th>0</th>\n",
       "      <td>1</td>\n",
       "      <td>2020-02-01 00:17:35</td>\n",
       "      <td>2020-02-01 00:30:32</td>\n",
       "      <td>1</td>\n",
       "      <td>2.60</td>\n",
       "      <td>1</td>\n",
       "      <td>N</td>\n",
       "      <td>145</td>\n",
       "      <td>7</td>\n",
       "      <td>1</td>\n",
       "      <td>11.0</td>\n",
       "      <td>0.5</td>\n",
       "      <td>0.5</td>\n",
       "      <td>2.45</td>\n",
       "      <td>0.0</td>\n",
       "      <td>0.3</td>\n",
       "      <td>14.75</td>\n",
       "      <td>0.0</td>\n",
       "    </tr>\n",
       "    <tr>\n",
       "      <th>1</th>\n",
       "      <td>1</td>\n",
       "      <td>2020-02-01 00:31:44</td>\n",
       "      <td>2020-02-01 00:43:28</td>\n",
       "      <td>1</td>\n",
       "      <td>3.20</td>\n",
       "      <td>1</td>\n",
       "      <td>N</td>\n",
       "      <td>186</td>\n",
       "      <td>140</td>\n",
       "      <td>1</td>\n",
       "      <td>11.0</td>\n",
       "      <td>3.0</td>\n",
       "      <td>0.5</td>\n",
       "      <td>1.00</td>\n",
       "      <td>0.0</td>\n",
       "      <td>0.3</td>\n",
       "      <td>15.80</td>\n",
       "      <td>2.5</td>\n",
       "    </tr>\n",
       "    <tr>\n",
       "      <th>2</th>\n",
       "      <td>2</td>\n",
       "      <td>2020-02-01 00:51:43</td>\n",
       "      <td>2020-02-01 01:01:29</td>\n",
       "      <td>1</td>\n",
       "      <td>2.28</td>\n",
       "      <td>1</td>\n",
       "      <td>N</td>\n",
       "      <td>238</td>\n",
       "      <td>152</td>\n",
       "      <td>2</td>\n",
       "      <td>9.5</td>\n",
       "      <td>0.5</td>\n",
       "      <td>0.5</td>\n",
       "      <td>0.00</td>\n",
       "      <td>0.0</td>\n",
       "      <td>0.3</td>\n",
       "      <td>10.80</td>\n",
       "      <td>0.0</td>\n",
       "    </tr>\n",
       "    <tr>\n",
       "      <th>3</th>\n",
       "      <td>1</td>\n",
       "      <td>2020-02-01 00:25:31</td>\n",
       "      <td>2020-02-01 00:50:22</td>\n",
       "      <td>2</td>\n",
       "      <td>3.40</td>\n",
       "      <td>1</td>\n",
       "      <td>N</td>\n",
       "      <td>79</td>\n",
       "      <td>256</td>\n",
       "      <td>1</td>\n",
       "      <td>18.5</td>\n",
       "      <td>3.0</td>\n",
       "      <td>0.5</td>\n",
       "      <td>4.45</td>\n",
       "      <td>0.0</td>\n",
       "      <td>0.3</td>\n",
       "      <td>26.75</td>\n",
       "      <td>2.5</td>\n",
       "    </tr>\n",
       "    <tr>\n",
       "      <th>4</th>\n",
       "      <td>2</td>\n",
       "      <td>2020-02-01 00:58:26</td>\n",
       "      <td>2020-02-01 01:02:26</td>\n",
       "      <td>1</td>\n",
       "      <td>0.80</td>\n",
       "      <td>1</td>\n",
       "      <td>N</td>\n",
       "      <td>116</td>\n",
       "      <td>42</td>\n",
       "      <td>1</td>\n",
       "      <td>5.0</td>\n",
       "      <td>0.5</td>\n",
       "      <td>0.5</td>\n",
       "      <td>1.26</td>\n",
       "      <td>0.0</td>\n",
       "      <td>0.3</td>\n",
       "      <td>7.56</td>\n",
       "      <td>0.0</td>\n",
       "    </tr>\n",
       "  </tbody>\n",
       "</table>\n",
       "</div>"
      ],
      "text/plain": [
       "   vendor_id     pickup_datetime    dropoff_datetime  passenger_count  \\\n",
       "0          1 2020-02-01 00:17:35 2020-02-01 00:30:32                1   \n",
       "1          1 2020-02-01 00:31:44 2020-02-01 00:43:28                1   \n",
       "2          2 2020-02-01 00:51:43 2020-02-01 01:01:29                1   \n",
       "3          1 2020-02-01 00:25:31 2020-02-01 00:50:22                2   \n",
       "4          2 2020-02-01 00:58:26 2020-02-01 01:02:26                1   \n",
       "\n",
       "   trip_distance  ratecode_id store_and_fwd_flag  pu_location_id  \\\n",
       "0           2.60            1                  N             145   \n",
       "1           3.20            1                  N             186   \n",
       "2           2.28            1                  N             238   \n",
       "3           3.40            1                  N              79   \n",
       "4           0.80            1                  N             116   \n",
       "\n",
       "   do_location_id  payment_type  fare_amount  extra  mta_tax  tip_amount  \\\n",
       "0               7             1         11.0    0.5      0.5        2.45   \n",
       "1             140             1         11.0    3.0      0.5        1.00   \n",
       "2             152             2          9.5    0.5      0.5        0.00   \n",
       "3             256             1         18.5    3.0      0.5        4.45   \n",
       "4              42             1          5.0    0.5      0.5        1.26   \n",
       "\n",
       "   tolls_amount  improvement_surcharge  total_amount  congestion_surcharge  \n",
       "0           0.0                    0.3         14.75                   0.0  \n",
       "1           0.0                    0.3         15.80                   2.5  \n",
       "2           0.0                    0.3         10.80                   0.0  \n",
       "3           0.0                    0.3         26.75                   2.5  \n",
       "4           0.0                    0.3          7.56                   0.0  "
      ]
     },
     "execution_count": 7,
     "metadata": {},
     "output_type": "execute_result"
    }
   ],
   "source": [
    "df = res.to_pandas()\n",
    "df.head()"
   ]
  },
  {
   "cell_type": "markdown",
   "id": "1f2dbbb0-60f0-4c3a-baa8-f9614a605d1a",
   "metadata": {
    "tags": []
   },
   "source": [
    "### Data Frame Operation"
   ]
  },
  {
   "cell_type": "code",
   "execution_count": 8,
   "id": "8d66d209-0fdf-4a61-b598-5d564b2a797a",
   "metadata": {},
   "outputs": [
    {
     "data": {
      "text/plain": [
       "2.7654999934509394"
      ]
     },
     "execution_count": 8,
     "metadata": {},
     "output_type": "execute_result"
    }
   ],
   "source": [
    "COL = 'trip_distance'\n",
    "df.loc[:,COL].mean()"
   ]
  },
  {
   "cell_type": "code",
   "execution_count": null,
   "id": "f3b61de5-1b54-483c-ae09-8796c87dff41",
   "metadata": {},
   "outputs": [],
   "source": []
  }
 ],
 "metadata": {
  "kernelspec": {
   "display_name": "Python 3 (ipykernel)",
   "language": "python",
   "name": "python3"
  },
  "language_info": {
   "codemirror_mode": {
    "name": "ipython",
    "version": 3
   },
   "file_extension": ".py",
   "mimetype": "text/x-python",
   "name": "python",
   "nbconvert_exporter": "python",
   "pygments_lexer": "ipython3",
   "version": "3.8.12"
  }
 },
 "nbformat": 4,
 "nbformat_minor": 5
}
