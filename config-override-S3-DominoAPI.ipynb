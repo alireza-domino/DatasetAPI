{
 "cells": [
  {
   "cell_type": "markdown",
   "id": "d155c92e-9ceb-423c-8778-d835cbda050d",
   "metadata": {
    "jp-MarkdownHeadingCollapsed": true,
    "tags": []
   },
   "source": [
    "### Create S3 Connection\n",
    "\n",
    "```\n",
    "1. Data Store Selection  (S3)\n",
    "2. Data Source Name\n",
    "3. Visibility\n",
    "4. Bucket Name\n",
    "5. Region Name\n",
    "6. Description (UI only)\n",
    "7. credential id\n",
    "8. credential password\n",
    "```\n"
   ]
  },
  {
   "cell_type": "markdown",
   "id": "30219d79-f5f0-499a-b77c-f840d1b776f9",
   "metadata": {},
   "source": [
    "### Import Packages"
   ]
  },
  {
   "cell_type": "code",
   "execution_count": 2,
   "id": "aa25bfa2-06ae-4ea0-8307-7462234be9cc",
   "metadata": {},
   "outputs": [],
   "source": [
    "from domino import data_sources\n",
    "import os"
   ]
  },
  {
   "cell_type": "markdown",
   "id": "7fdc56ad-e4c2-4267-a4c5-bb291ffc8746",
   "metadata": {},
   "source": [
    "### Instantiate Datasource Client"
   ]
  },
  {
   "cell_type": "code",
   "execution_count": 3,
   "id": "6d68b0bb-455e-4600-86f5-1cada0b5c419",
   "metadata": {},
   "outputs": [
    {
     "data": {
      "text/plain": [
       "DataSourceClient(api_key='6801bae29833d8ebebfc2c957b755be181cda15ceedc3cf335f12c36fe995c90', token_file='/var/lib/domino/home/.api/token')"
      ]
     },
     "execution_count": 3,
     "metadata": {},
     "output_type": "execute_result"
    }
   ],
   "source": [
    "myClient = data_sources.DataSourceClient()\n",
    "myClient"
   ]
  },
  {
   "cell_type": "markdown",
   "id": "4385ff4d-e5c8-4de5-be22-5ae13d626be0",
   "metadata": {},
   "source": [
    "### Get Data Source"
   ]
  },
  {
   "cell_type": "code",
   "execution_count": 7,
   "id": "1c75b9e4-c631-4db7-903e-d02e07651111",
   "metadata": {},
   "outputs": [
    {
     "data": {
      "text/plain": [
       "ObjectStoreDatasource(config={'type': 'DataSourceS3Config', 'dataSourceType': 'S3Config', 'bucket': 's3regression', 'region': 'us-west-2'}, credential_type='Individual', datasource_type='S3Config', identifier='625fa5557b23f475da4bb125', name='Amazon-S3-bucket-regression', owner='ddl-alireza')"
      ]
     },
     "execution_count": 7,
     "metadata": {},
     "output_type": "execute_result"
    }
   ],
   "source": [
    "DATA_SOURCE_NAME = \"Amazon-S3-bucket-regression\"\n",
    "data_source_obj = myClient.get_datasource(DATA_SOURCE_NAME)\n",
    "data_source_obj"
   ]
  },
  {
   "cell_type": "markdown",
   "id": "a89d0be7-897b-47a7-a2d0-0c51f738f12b",
   "metadata": {},
   "source": [
    "### Identifier"
   ]
  },
  {
   "cell_type": "code",
   "execution_count": 9,
   "id": "dc937d74-fbbf-4126-9f71-5861228b4e10",
   "metadata": {},
   "outputs": [
    {
     "data": {
      "text/plain": [
       "'625fa5557b23f475da4bb125'"
      ]
     },
     "execution_count": 9,
     "metadata": {},
     "output_type": "execute_result"
    }
   ],
   "source": [
    "data_source_obj.identifier"
   ]
  },
  {
   "cell_type": "markdown",
   "id": "47b7e1ba-45f8-49fc-bc4e-533e9be76c56",
   "metadata": {},
   "source": [
    "### List Objects in our Data Source"
   ]
  },
  {
   "cell_type": "code",
   "execution_count": 10,
   "id": "7528454e-9964-4336-a75c-595e1ee2709d",
   "metadata": {},
   "outputs": [
    {
     "data": {
      "text/plain": [
       "[_Object(key='Andrews_files/actual_house_prices.csv'),\n",
       " _Object(key='Andrews_files/gt_actual_pred.csv'),\n",
       " _Object(key='Andrews_files/housing-pred-data.csv'),\n",
       " _Object(key='Andrews_files/kc_house_data.csv')]"
      ]
     },
     "execution_count": 10,
     "metadata": {},
     "output_type": "execute_result"
    }
   ],
   "source": [
    "obj_list = [x for x in data_source_obj.list_objects()]\n",
    "obj_list[:4]"
   ]
  },
  {
   "cell_type": "markdown",
   "id": "0071634a-5a38-4854-8cc4-4d2b17a0fac4",
   "metadata": {},
   "source": [
    "### Read/Download from S3"
   ]
  },
  {
   "cell_type": "code",
   "execution_count": 11,
   "id": "b2ae27a2-2056-4c28-88f2-cb5a8512b55a",
   "metadata": {},
   "outputs": [],
   "source": [
    "# Key object\n",
    "file_name = \"iris.csv\"\n",
    "\n",
    "my_key = data_source_obj.Object(file_name)\n",
    "\n",
    "# GEt content as binary\n",
    "content = my_key.get()\n",
    "\n",
    "# Downlaoding \n",
    "data_source_obj.Object(file_name).download_file(file_name) # intial file name in cluster | destination file name in domino"
   ]
  },
  {
   "cell_type": "markdown",
   "id": "a3c299bc-8891-4efc-95cd-28d247b11570",
   "metadata": {},
   "source": [
    "### Override Config"
   ]
  },
  {
   "cell_type": "raw",
   "id": "a198a824-b78a-4d67-bfeb-bcf018954bfc",
   "metadata": {},
   "source": [
    "import json\n",
    "BASE_PATH = r\"/home/ubuntu/\"\n",
    "with open( BASE_PATH+ \"ali_data.json\") as json_file:\n",
    "    data = json.load(json_file)\n",
    "    AWS_ACCESS_KEY_ID = data['AWS'][0]['AWS_ACCESS_KEY_ID']\n",
    "    AWS_SECRET_ACCESS_KEY = data['AWS'][0]['AWS_SECRET_ACCESS_KEY']"
   ]
  },
  {
   "cell_type": "code",
   "execution_count": 9,
   "id": "e6b93dd1-cd1e-4302-8daa-f929ae3ae53d",
   "metadata": {},
   "outputs": [],
   "source": [
    "S3CONFIG = data_sources.S3Config(bucket=\"kaggle-test-ali\", \n",
    "                     region=\"us-west-2\", \n",
    "                     aws_access_key_id=AWS_ACCESS_KEY_ID, \n",
    "                     aws_secret_access_key=AWS_SECRET_ACCESS_KEY)\n",
    "\n",
    "data_source_obj.update(S3CONFIG)"
   ]
  },
  {
   "cell_type": "code",
   "execution_count": 10,
   "id": "5e853f7e-115a-4116-9479-12a13f5445dc",
   "metadata": {},
   "outputs": [
    {
     "data": {
      "text/plain": [
       "'kaggle-test-ali'"
      ]
     },
     "execution_count": 10,
     "metadata": {},
     "output_type": "execute_result"
    }
   ],
   "source": [
    "data_source_obj._config_override.bucket"
   ]
  },
  {
   "cell_type": "code",
   "execution_count": 13,
   "id": "15dc0e11-8a16-40e4-8080-b57a740abd17",
   "metadata": {},
   "outputs": [
    {
     "data": {
      "text/plain": [
       "[_Object(key='Andrews_files/actual_house_prices.csv'),\n",
       " _Object(key='Andrews_files/gt_actual_pred.csv'),\n",
       " _Object(key='Andrews_files/housing-pred-data.csv'),\n",
       " _Object(key='Andrews_files/kc_house_data.csv'),\n",
       " _Object(key='C22760_prediction_11.csv'),\n",
       " _Object(key='C22760_prediction_2.csv'),\n",
       " _Object(key='Test data - GT_alphanumeric.csv'),\n",
       " _Object(key='Test data - Predictionnew1.csv'),\n",
       " _Object(key='Training-missing_at_random-Training data.csv'),\n",
       " _Object(key='archive/config.json'),\n",
       " _Object(key='archive/modelcard.json'),\n",
       " _Object(key='archive/spiece.model'),\n",
       " _Object(key='archive/tf_model.h5'),\n",
       " _Object(key='aug_data/masks/00004_3.png'),\n",
       " _Object(key='aug_data/masks/00006_1.png'),\n",
       " _Object(key='aug_data/masks/00020_2.png'),\n",
       " _Object(key='aug_data/masks/00022_0.png'),\n",
       " _Object(key='aug_data/masks/00041_3.png'),\n",
       " _Object(key='aug_data/masks/00043_1.png'),\n",
       " _Object(key='aug_data/masks/00058_2.png'),\n",
       " _Object(key='aug_data/masks/00065_2.png'),\n",
       " _Object(key='aug_data/masks/00067_0.png'),\n",
       " _Object(key='aug_data/masks/00098_2.png'),\n",
       " _Object(key='aug_data/masks/00106_4.png'),\n",
       " _Object(key='aug_data/masks/00119_3.png'),\n",
       " _Object(key='aug_data/masks/00143_4.png'),\n",
       " _Object(key='aug_data/masks/00178_2.png'),\n",
       " _Object(key='aug_data/masks/00185_2.png'),\n",
       " _Object(key='aug_data/masks/00187_0.png'),\n",
       " _Object(key='aug_data/masks/00203_0.png'),\n",
       " _Object(key='aug_data/masks/00207_4.png'),\n",
       " _Object(key='aug_data/masks/00218_3.png'),\n",
       " _Object(key='aug_data/masks/00225_3.png'),\n",
       " _Object(key='aug_data/masks/00242_4.png'),\n",
       " _Object(key='aug_data/masks/00246_0.png'),\n",
       " _Object(key='aug_data/masks/00260_3.png'),\n",
       " _Object(key='aug_data/masks/00279_2.png'),\n",
       " _Object(key='aug_data/masks/00284_2.png'),\n",
       " _Object(key='aug_data/masks/00286_0.png'),\n",
       " _Object(key='aug_data/masks/00305_3.png'),\n",
       " _Object(key='aug_data/masks/00307_1.png'),\n",
       " _Object(key='aug_data/masks/00321_2.png'),\n",
       " _Object(key='aug_data/masks/00323_0.png'),\n",
       " _Object(key='aug_data/masks/00327_4.png'),\n",
       " _Object(key='aug_data/masks/00340_3.png'),\n",
       " _Object(key='aug_data/masks/00342_1.png'),\n",
       " _Object(key='aug_data/masks/00362_4.png'),\n",
       " _Object(key='aug_data/masks/00364_2.png'),\n",
       " _Object(key='aug_data/masks/00366_0.png'),\n",
       " _Object(key='aug_data/masks/00382_1.png'),\n",
       " _Object(key='aug_data/masks/00428_3.png'),\n",
       " _Object(key='aug_data/masks/00431_2.png'),\n",
       " _Object(key='aug_data/masks/00449_2.png'),\n",
       " _Object(key='aug_data/masks/00472_4.png'),\n",
       " _Object(key='aug_data/masks/00489_2.png'),\n",
       " _Object(key='aug_data/masks/00490_3.png'),\n",
       " _Object(key='aug_data/masks/00492_1.png'),\n",
       " _Object(key='aug_data/masks/00508_3.png'),\n",
       " _Object(key='aug_data/masks/00511_2.png'),\n",
       " _Object(key='aug_data/masks/00513_0.png'),\n",
       " _Object(key='aug_data/masks/00537_1.png'),\n",
       " _Object(key='aug_data/masks/00554_2.png'),\n",
       " _Object(key='aug_data/masks/00556_0.png'),\n",
       " _Object(key='aug_data/masks/00572_1.png'),\n",
       " _Object(key='diabetes.csv'),\n",
       " _Object(key='diabetes_changed.csv'),\n",
       " _Object(key='drift_ground_truth_divorce.csv'),\n",
       " _Object(key='dsp_test_dir/divorce.csv'),\n",
       " _Object(key='dsp_test_dir/drift_divorce.csv'),\n",
       " _Object(key='dsp_test_dir/drift_ground_truth_divorce.csv'),\n",
       " _Object(key='dsp_test_dir/drift_ground_truth_divorce1.csv'),\n",
       " _Object(key='dsp_test_dir/drift_ground_truth_divorce2.csv'),\n",
       " _Object(key='dsp_test_dir/model_monitor_train_divorce.csv'),\n",
       " _Object(key='dsp_test_dir/prototype_pred.csv'),\n",
       " _Object(key='dsp_test_dir/remedy_pred.csv'),\n",
       " _Object(key='dsp_test_dir/train_divorce.csv'),\n",
       " _Object(key='empty_000.csv'),\n",
       " _Object(key='gabrieltest.csv'),\n",
       " _Object(key='gabrieltest2.csv'),\n",
       " _Object(key='iris.csv'),\n",
       " _Object(key='modified_diabetes.csv'),\n",
       " _Object(key='prototype_pred.csv'),\n",
       " _Object(key='remedy_pred.csv'),\n",
       " _Object(key='system_tests_DO_NOT_CHANGE/diabetes.csv'),\n",
       " _Object(key='test_put_sdk_201dev1'),\n",
       " _Object(key='test_s3_1.txt'),\n",
       " _Object(key='test_s3_3.txt'),\n",
       " _Object(key='test_s3_3_BytesIO.txt'),\n",
       " _Object(key='test_s3_4.txt'),\n",
       " _Object(key='test_s3_4_BytesIO.txt'),\n",
       " _Object(key='test_s3_4_b.txt'),\n",
       " _Object(key='test_s3_5.txt'),\n",
       " _Object(key='test_s3_5_BytesIO.txt'),\n",
       " _Object(key='test_s3_5_b.txt'),\n",
       " _Object(key='test_s3_BytesIO_7.txt'),\n",
       " _Object(key='train_divorce.csv')]"
      ]
     },
     "execution_count": 13,
     "metadata": {},
     "output_type": "execute_result"
    }
   ],
   "source": [
    "obj_list = [x for x in data_source_obj.list_objects()]\n",
    "obj_list"
   ]
  },
  {
   "cell_type": "markdown",
   "id": "3775b203-ba95-4984-aab4-ebe7500686f5",
   "metadata": {},
   "source": [
    "### Write/Upload to S3"
   ]
  },
  {
   "cell_type": "code",
   "execution_count": 12,
   "id": "a94953ee-504f-4ec7-ba2c-f654d8a2faaa",
   "metadata": {},
   "outputs": [],
   "source": [
    "# put binary content to given object key\n",
    "data_source_obj.put(\"example7.txt\", b\"S3 Example\")"
   ]
  },
  {
   "cell_type": "code",
   "execution_count": 13,
   "id": "ae2309aa-503a-4cd0-a756-a648c17b29af",
   "metadata": {},
   "outputs": [],
   "source": [
    "#Uload file-like content to specified object key\n",
    "import io\n",
    "f = io.BytesIO(b\"files in here\")\n",
    "data_source_obj.upload_fileobj(\"testBytesIO_7.txt\", f)"
   ]
  },
  {
   "cell_type": "code",
   "execution_count": 14,
   "id": "d5c088b4-c131-4e83-8f1f-2968107ec981",
   "metadata": {},
   "outputs": [],
   "source": [
    "# Upload file content to specified object key\n",
    "data_source_obj.upload_file(\"my_text_7.txt\", \"my_text_7.txt\")"
   ]
  },
  {
   "cell_type": "code",
   "execution_count": 15,
   "id": "bf6eb9bd-e6f4-409b-b873-47e122885548",
   "metadata": {},
   "outputs": [
    {
     "data": {
      "text/plain": [
       "[_Object(key='example.txt'),\n",
       " _Object(key='example4.txt'),\n",
       " _Object(key='example5.txt'),\n",
       " _Object(key='example7.txt'),\n",
       " _Object(key='exampleS3.txt'),\n",
       " _Object(key='my_text.txt'),\n",
       " _Object(key='my_text_5.txt'),\n",
       " _Object(key='my_text_6.txt'),\n",
       " _Object(key='my_text_7.txt'),\n",
       " _Object(key='test-folder1/pink.png'),\n",
       " _Object(key='testBytesIO.txt'),\n",
       " _Object(key='testBytesIO_4.txt'),\n",
       " _Object(key='testBytesIO_5.txt'),\n",
       " _Object(key='testBytesIO_6.txt'),\n",
       " _Object(key='testBytesIO_7.txt')]"
      ]
     },
     "execution_count": 15,
     "metadata": {},
     "output_type": "execute_result"
    }
   ],
   "source": [
    "obj_list = [x for x in data_source_obj.list_objects()]\n",
    "obj_list"
   ]
  },
  {
   "cell_type": "markdown",
   "id": "42ad78c7-a65d-43d3-b962-ad1087c985a7",
   "metadata": {},
   "source": [
    "### Reset Config"
   ]
  },
  {
   "cell_type": "code",
   "execution_count": 16,
   "id": "90e654c6-e0b1-44d2-94e7-f93918f8c4e6",
   "metadata": {},
   "outputs": [],
   "source": [
    "data_source_obj.reset_config()"
   ]
  },
  {
   "cell_type": "code",
   "execution_count": 17,
   "id": "d5fd8343-b9d2-44cf-be5c-268685aeabd0",
   "metadata": {},
   "outputs": [
    {
     "data": {
      "text/plain": [
       "[_Object(key='Andrews_files/actual_house_prices.csv'),\n",
       " _Object(key='Andrews_files/gt_actual_pred.csv'),\n",
       " _Object(key='Andrews_files/housing-pred-data.csv'),\n",
       " _Object(key='Andrews_files/kc_house_data.csv')]"
      ]
     },
     "execution_count": 17,
     "metadata": {},
     "output_type": "execute_result"
    }
   ],
   "source": [
    "obj_list = [x for x in data_source_obj.list_objects()]\n",
    "obj_list[:4]"
   ]
  },
  {
   "cell_type": "code",
   "execution_count": null,
   "id": "cb4fa779-8295-4911-a26d-d82ddbae79a9",
   "metadata": {},
   "outputs": [],
   "source": []
  }
 ],
 "metadata": {
  "kernelspec": {
   "display_name": "Python 3 (ipykernel)",
   "language": "python",
   "name": "python3"
  },
  "language_info": {
   "codemirror_mode": {
    "name": "ipython",
    "version": 3
   },
   "file_extension": ".py",
   "mimetype": "text/x-python",
   "name": "python",
   "nbconvert_exporter": "python",
   "pygments_lexer": "ipython3",
   "version": "3.8.12"
  }
 },
 "nbformat": 4,
 "nbformat_minor": 5
}
