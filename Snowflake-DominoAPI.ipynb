{
 "cells": [
  {
   "cell_type": "markdown",
   "id": "e5c49284-07fb-4bd5-b4d9-cec545fed798",
   "metadata": {},
   "source": [
    "### Create Snowflake Connection\n",
    "\n",
    "\n",
    "```\n",
    "1. Data Store Selection (Snowflake)\n",
    "2. Data Source Name\n",
    "3. account name\n",
    "4. database\n",
    "5. schema\n",
    "6. warehouse\n",
    "7. role\n",
    "8. password\n",
    "9. username\n",
    "```"
   ]
  },
  {
   "cell_type": "markdown",
   "id": "e1c25870-7d33-4705-baf1-51d6017011c5",
   "metadata": {},
   "source": [
    "### Import Packages"
   ]
  },
  {
   "cell_type": "code",
   "execution_count": 1,
   "id": "38f598f5-0f5e-4bfd-8406-80ae16f1d4d2",
   "metadata": {},
   "outputs": [],
   "source": [
    "from domino import data_sources\n",
    "import os"
   ]
  },
  {
   "cell_type": "markdown",
   "id": "59f429e6-d74d-4f03-9703-858d8e41196f",
   "metadata": {},
   "source": [
    "### Instantiate Client"
   ]
  },
  {
   "cell_type": "code",
   "execution_count": 2,
   "id": "8193d705-fb71-4fa6-be8a-7e31ecf530b1",
   "metadata": {},
   "outputs": [
    {
     "data": {
      "text/plain": [
       "DataSourceClient(api_key='6801bae29833d8ebebfc2c957b755be181cda15ceedc3cf335f12c36fe995c90', token_file='/var/lib/domino/home/.api/token')"
      ]
     },
     "execution_count": 2,
     "metadata": {},
     "output_type": "execute_result"
    }
   ],
   "source": [
    "myClient = data_sources.DataSourceClient()\n",
    "myClient"
   ]
  },
  {
   "cell_type": "markdown",
   "id": "c343d89f-e487-4b24-a63a-5fd76bb32ab5",
   "metadata": {},
   "source": [
    "### Get Data Source"
   ]
  },
  {
   "cell_type": "code",
   "execution_count": 4,
   "id": "3b11d94a-959f-4d87-80d3-0f52a259f963",
   "metadata": {},
   "outputs": [
    {
     "data": {
      "text/plain": [
       "QueryDatasource(config={'type': 'DataSourceSnowflakeConfig', 'database': 'SNOWFLAKE_SAMPLE_DATA', 'accountName': 'kma55258', 'dataSourceType': 'SnowflakeConfig', 'schema': 'TPCH_SF1', 'warehouse': 'DOMINODATALAB'}, credential_type='Individual', datasource_type='SnowflakeConfig', identifier='622f7de34b34ac67107432ed', name='ali-test-2-snowflake', owner='ddl-alireza')"
      ]
     },
     "execution_count": 4,
     "metadata": {},
     "output_type": "execute_result"
    }
   ],
   "source": [
    "DATA_SOURCE_NAME = \"ali-test-2-snowflake\"\n",
    "data_source_obj = myClient.get_datasource(DATA_SOURCE_NAME)\n",
    "data_source_obj"
   ]
  },
  {
   "cell_type": "markdown",
   "id": "971017d2-98ba-44ad-b1f5-b4fe91c5635f",
   "metadata": {},
   "source": [
    "### Identifier"
   ]
  },
  {
   "cell_type": "code",
   "execution_count": 5,
   "id": "d01f0182-aa23-43d2-afb2-030e158f8ba6",
   "metadata": {},
   "outputs": [
    {
     "data": {
      "text/plain": [
       "'622f7de34b34ac67107432ed'"
      ]
     },
     "execution_count": 5,
     "metadata": {},
     "output_type": "execute_result"
    }
   ],
   "source": [
    "data_source_obj.identifier"
   ]
  },
  {
   "cell_type": "markdown",
   "id": "b8ac35e7-fec1-4932-800e-c29be7807ff9",
   "metadata": {},
   "source": [
    "### Show Query in our Data Source Table (Dataset: is defined, Schema: is define)"
   ]
  },
  {
   "cell_type": "code",
   "execution_count": 6,
   "id": "49e3f66c-7e9f-4b7d-9b45-b50b660a00ab",
   "metadata": {},
   "outputs": [
    {
     "data": {
      "text/html": [
       "<div>\n",
       "<style scoped>\n",
       "    .dataframe tbody tr th:only-of-type {\n",
       "        vertical-align: middle;\n",
       "    }\n",
       "\n",
       "    .dataframe tbody tr th {\n",
       "        vertical-align: top;\n",
       "    }\n",
       "\n",
       "    .dataframe thead th {\n",
       "        text-align: right;\n",
       "    }\n",
       "</style>\n",
       "<table border=\"1\" class=\"dataframe\">\n",
       "  <thead>\n",
       "    <tr style=\"text-align: right;\">\n",
       "      <th></th>\n",
       "      <th>created_on</th>\n",
       "      <th>name</th>\n",
       "      <th>database_name</th>\n",
       "      <th>schema_name</th>\n",
       "      <th>kind</th>\n",
       "      <th>comment</th>\n",
       "      <th>cluster_by</th>\n",
       "      <th>rows</th>\n",
       "      <th>bytes</th>\n",
       "      <th>owner</th>\n",
       "      <th>retention_time</th>\n",
       "      <th>automatic_clustering</th>\n",
       "      <th>change_tracking</th>\n",
       "      <th>search_optimization</th>\n",
       "      <th>search_optimization_progress</th>\n",
       "      <th>search_optimization_bytes</th>\n",
       "      <th>is_external</th>\n",
       "    </tr>\n",
       "  </thead>\n",
       "  <tbody>\n",
       "    <tr>\n",
       "      <th>0</th>\n",
       "      <td>2021-11-11 20:38:34.965</td>\n",
       "      <td>CUSTOMER</td>\n",
       "      <td>SNOWFLAKE_SAMPLE_DATA</td>\n",
       "      <td>TPCH_SF1</td>\n",
       "      <td>TABLE</td>\n",
       "      <td>Customer data as defined by TPC-H</td>\n",
       "      <td></td>\n",
       "      <td>150000</td>\n",
       "      <td>10747904</td>\n",
       "      <td></td>\n",
       "      <td>1</td>\n",
       "      <td>OFF</td>\n",
       "      <td>OFF</td>\n",
       "      <td>OFF</td>\n",
       "      <td>NaN</td>\n",
       "      <td>NaN</td>\n",
       "      <td>N</td>\n",
       "    </tr>\n",
       "    <tr>\n",
       "      <th>1</th>\n",
       "      <td>2021-11-11 20:38:35.325</td>\n",
       "      <td>LINEITEM</td>\n",
       "      <td>SNOWFLAKE_SAMPLE_DATA</td>\n",
       "      <td>TPCH_SF1</td>\n",
       "      <td>TABLE</td>\n",
       "      <td>Lineitem data as defined by TPC-H</td>\n",
       "      <td></td>\n",
       "      <td>6001215</td>\n",
       "      <td>165228544</td>\n",
       "      <td></td>\n",
       "      <td>1</td>\n",
       "      <td>OFF</td>\n",
       "      <td>OFF</td>\n",
       "      <td>OFF</td>\n",
       "      <td>NaN</td>\n",
       "      <td>NaN</td>\n",
       "      <td>N</td>\n",
       "    </tr>\n",
       "    <tr>\n",
       "      <th>2</th>\n",
       "      <td>2021-11-11 20:38:35.294</td>\n",
       "      <td>NATION</td>\n",
       "      <td>SNOWFLAKE_SAMPLE_DATA</td>\n",
       "      <td>TPCH_SF1</td>\n",
       "      <td>TABLE</td>\n",
       "      <td>Nation data as defined by TPC-H</td>\n",
       "      <td></td>\n",
       "      <td>25</td>\n",
       "      <td>4096</td>\n",
       "      <td></td>\n",
       "      <td>1</td>\n",
       "      <td>OFF</td>\n",
       "      <td>OFF</td>\n",
       "      <td>OFF</td>\n",
       "      <td>NaN</td>\n",
       "      <td>NaN</td>\n",
       "      <td>N</td>\n",
       "    </tr>\n",
       "    <tr>\n",
       "      <th>3</th>\n",
       "      <td>2021-11-11 20:38:35.267</td>\n",
       "      <td>ORDERS</td>\n",
       "      <td>SNOWFLAKE_SAMPLE_DATA</td>\n",
       "      <td>TPCH_SF1</td>\n",
       "      <td>TABLE</td>\n",
       "      <td>Orders data as defined by TPC-H</td>\n",
       "      <td></td>\n",
       "      <td>1500000</td>\n",
       "      <td>42303488</td>\n",
       "      <td></td>\n",
       "      <td>1</td>\n",
       "      <td>OFF</td>\n",
       "      <td>OFF</td>\n",
       "      <td>OFF</td>\n",
       "      <td>NaN</td>\n",
       "      <td>NaN</td>\n",
       "      <td>N</td>\n",
       "    </tr>\n",
       "    <tr>\n",
       "      <th>4</th>\n",
       "      <td>2021-11-11 20:38:35.264</td>\n",
       "      <td>PART</td>\n",
       "      <td>SNOWFLAKE_SAMPLE_DATA</td>\n",
       "      <td>TPCH_SF1</td>\n",
       "      <td>TABLE</td>\n",
       "      <td>Part data as defined by TPC-H</td>\n",
       "      <td></td>\n",
       "      <td>200000</td>\n",
       "      <td>5214208</td>\n",
       "      <td></td>\n",
       "      <td>1</td>\n",
       "      <td>OFF</td>\n",
       "      <td>OFF</td>\n",
       "      <td>OFF</td>\n",
       "      <td>NaN</td>\n",
       "      <td>NaN</td>\n",
       "      <td>N</td>\n",
       "    </tr>\n",
       "    <tr>\n",
       "      <th>5</th>\n",
       "      <td>2021-11-11 20:38:35.264</td>\n",
       "      <td>PARTSUPP</td>\n",
       "      <td>SNOWFLAKE_SAMPLE_DATA</td>\n",
       "      <td>TPCH_SF1</td>\n",
       "      <td>TABLE</td>\n",
       "      <td>Partsupp data as defined by TPC-H</td>\n",
       "      <td></td>\n",
       "      <td>800000</td>\n",
       "      <td>36589568</td>\n",
       "      <td></td>\n",
       "      <td>1</td>\n",
       "      <td>OFF</td>\n",
       "      <td>OFF</td>\n",
       "      <td>OFF</td>\n",
       "      <td>NaN</td>\n",
       "      <td>NaN</td>\n",
       "      <td>N</td>\n",
       "    </tr>\n",
       "    <tr>\n",
       "      <th>6</th>\n",
       "      <td>2021-11-11 20:38:36.517</td>\n",
       "      <td>REGION</td>\n",
       "      <td>SNOWFLAKE_SAMPLE_DATA</td>\n",
       "      <td>TPCH_SF1</td>\n",
       "      <td>TABLE</td>\n",
       "      <td>Region data as defined by TPC-H</td>\n",
       "      <td></td>\n",
       "      <td>5</td>\n",
       "      <td>4096</td>\n",
       "      <td></td>\n",
       "      <td>1</td>\n",
       "      <td>OFF</td>\n",
       "      <td>OFF</td>\n",
       "      <td>OFF</td>\n",
       "      <td>NaN</td>\n",
       "      <td>NaN</td>\n",
       "      <td>N</td>\n",
       "    </tr>\n",
       "    <tr>\n",
       "      <th>7</th>\n",
       "      <td>2021-11-11 20:38:36.495</td>\n",
       "      <td>SUPPLIER</td>\n",
       "      <td>SNOWFLAKE_SAMPLE_DATA</td>\n",
       "      <td>TPCH_SF1</td>\n",
       "      <td>TABLE</td>\n",
       "      <td>Supplier data as defined by TPC-H</td>\n",
       "      <td></td>\n",
       "      <td>10000</td>\n",
       "      <td>692224</td>\n",
       "      <td></td>\n",
       "      <td>1</td>\n",
       "      <td>OFF</td>\n",
       "      <td>OFF</td>\n",
       "      <td>OFF</td>\n",
       "      <td>NaN</td>\n",
       "      <td>NaN</td>\n",
       "      <td>N</td>\n",
       "    </tr>\n",
       "  </tbody>\n",
       "</table>\n",
       "</div>"
      ],
      "text/plain": [
       "               created_on      name          database_name schema_name   kind  \\\n",
       "0 2021-11-11 20:38:34.965  CUSTOMER  SNOWFLAKE_SAMPLE_DATA    TPCH_SF1  TABLE   \n",
       "1 2021-11-11 20:38:35.325  LINEITEM  SNOWFLAKE_SAMPLE_DATA    TPCH_SF1  TABLE   \n",
       "2 2021-11-11 20:38:35.294    NATION  SNOWFLAKE_SAMPLE_DATA    TPCH_SF1  TABLE   \n",
       "3 2021-11-11 20:38:35.267    ORDERS  SNOWFLAKE_SAMPLE_DATA    TPCH_SF1  TABLE   \n",
       "4 2021-11-11 20:38:35.264      PART  SNOWFLAKE_SAMPLE_DATA    TPCH_SF1  TABLE   \n",
       "5 2021-11-11 20:38:35.264  PARTSUPP  SNOWFLAKE_SAMPLE_DATA    TPCH_SF1  TABLE   \n",
       "6 2021-11-11 20:38:36.517    REGION  SNOWFLAKE_SAMPLE_DATA    TPCH_SF1  TABLE   \n",
       "7 2021-11-11 20:38:36.495  SUPPLIER  SNOWFLAKE_SAMPLE_DATA    TPCH_SF1  TABLE   \n",
       "\n",
       "                             comment cluster_by     rows      bytes owner  \\\n",
       "0  Customer data as defined by TPC-H              150000   10747904         \n",
       "1  Lineitem data as defined by TPC-H             6001215  165228544         \n",
       "2    Nation data as defined by TPC-H                  25       4096         \n",
       "3    Orders data as defined by TPC-H             1500000   42303488         \n",
       "4      Part data as defined by TPC-H              200000    5214208         \n",
       "5  Partsupp data as defined by TPC-H              800000   36589568         \n",
       "6    Region data as defined by TPC-H                   5       4096         \n",
       "7  Supplier data as defined by TPC-H               10000     692224         \n",
       "\n",
       "  retention_time automatic_clustering change_tracking search_optimization  \\\n",
       "0              1                  OFF             OFF                 OFF   \n",
       "1              1                  OFF             OFF                 OFF   \n",
       "2              1                  OFF             OFF                 OFF   \n",
       "3              1                  OFF             OFF                 OFF   \n",
       "4              1                  OFF             OFF                 OFF   \n",
       "5              1                  OFF             OFF                 OFF   \n",
       "6              1                  OFF             OFF                 OFF   \n",
       "7              1                  OFF             OFF                 OFF   \n",
       "\n",
       "   search_optimization_progress  search_optimization_bytes is_external  \n",
       "0                           NaN                        NaN           N  \n",
       "1                           NaN                        NaN           N  \n",
       "2                           NaN                        NaN           N  \n",
       "3                           NaN                        NaN           N  \n",
       "4                           NaN                        NaN           N  \n",
       "5                           NaN                        NaN           N  \n",
       "6                           NaN                        NaN           N  \n",
       "7                           NaN                        NaN           N  "
      ]
     },
     "execution_count": 6,
     "metadata": {},
     "output_type": "execute_result"
    }
   ],
   "source": [
    "res_table = data_source_obj.query(\"SHOW TABLES\")\n",
    "df_table = res_table.to_pandas()\n",
    "df_table"
   ]
  },
  {
   "cell_type": "code",
   "execution_count": 7,
   "id": "b2cfa9e2-e61a-4c1f-b04c-1801a4507f3a",
   "metadata": {},
   "outputs": [
    {
     "data": {
      "text/plain": [
       "'LINEITEM'"
      ]
     },
     "execution_count": 7,
     "metadata": {},
     "output_type": "execute_result"
    }
   ],
   "source": [
    "TABLE_NAME = df_table[\"name\"][1]\n",
    "TABLE_NAME"
   ]
  },
  {
   "cell_type": "code",
   "execution_count": 8,
   "id": "873aa9b5-97b6-44e0-a8ef-95a4bd94c1ad",
   "metadata": {},
   "outputs": [
    {
     "data": {
      "text/plain": [
       "Result(statement='select * from LINEITEM limit 10')"
      ]
     },
     "execution_count": 8,
     "metadata": {},
     "output_type": "execute_result"
    }
   ],
   "source": [
    "res = data_source_obj.query(\"select * from \" + TABLE_NAME +\" limit 10\")\n",
    "res"
   ]
  },
  {
   "cell_type": "code",
   "execution_count": 9,
   "id": "c278b0b5-6892-4f57-80db-cfcb240af328",
   "metadata": {},
   "outputs": [
    {
     "data": {
      "text/plain": [
       "domino_data.data_sources.Result"
      ]
     },
     "execution_count": 9,
     "metadata": {},
     "output_type": "execute_result"
    }
   ],
   "source": [
    "type(res)"
   ]
  },
  {
   "cell_type": "code",
   "execution_count": 10,
   "id": "53e1cc92-ebc9-4791-8d3d-7b6a7e9d4b5d",
   "metadata": {},
   "outputs": [
    {
     "data": {
      "text/html": [
       "<div>\n",
       "<style scoped>\n",
       "    .dataframe tbody tr th:only-of-type {\n",
       "        vertical-align: middle;\n",
       "    }\n",
       "\n",
       "    .dataframe tbody tr th {\n",
       "        vertical-align: top;\n",
       "    }\n",
       "\n",
       "    .dataframe thead th {\n",
       "        text-align: right;\n",
       "    }\n",
       "</style>\n",
       "<table border=\"1\" class=\"dataframe\">\n",
       "  <thead>\n",
       "    <tr style=\"text-align: right;\">\n",
       "      <th></th>\n",
       "      <th>L_ORDERKEY</th>\n",
       "      <th>L_PARTKEY</th>\n",
       "      <th>L_SUPPKEY</th>\n",
       "      <th>L_LINENUMBER</th>\n",
       "      <th>L_QUANTITY</th>\n",
       "      <th>L_EXTENDEDPRICE</th>\n",
       "      <th>L_DISCOUNT</th>\n",
       "      <th>L_TAX</th>\n",
       "      <th>L_RETURNFLAG</th>\n",
       "      <th>L_LINESTATUS</th>\n",
       "      <th>L_SHIPDATE</th>\n",
       "      <th>L_COMMITDATE</th>\n",
       "      <th>L_RECEIPTDATE</th>\n",
       "      <th>L_SHIPINSTRUCT</th>\n",
       "      <th>L_SHIPMODE</th>\n",
       "      <th>L_COMMENT</th>\n",
       "    </tr>\n",
       "  </thead>\n",
       "  <tbody>\n",
       "    <tr>\n",
       "      <th>0</th>\n",
       "      <td>1</td>\n",
       "      <td>155190</td>\n",
       "      <td>7706</td>\n",
       "      <td>1</td>\n",
       "      <td>17.0</td>\n",
       "      <td>21168.23</td>\n",
       "      <td>0.04</td>\n",
       "      <td>0.02</td>\n",
       "      <td>N</td>\n",
       "      <td>O</td>\n",
       "      <td>1996-03-13</td>\n",
       "      <td>1996-02-12</td>\n",
       "      <td>1996-03-22</td>\n",
       "      <td>DELIVER IN PERSON</td>\n",
       "      <td>TRUCK</td>\n",
       "      <td>egular courts above the</td>\n",
       "    </tr>\n",
       "    <tr>\n",
       "      <th>1</th>\n",
       "      <td>1</td>\n",
       "      <td>67310</td>\n",
       "      <td>7311</td>\n",
       "      <td>2</td>\n",
       "      <td>36.0</td>\n",
       "      <td>45983.16</td>\n",
       "      <td>0.09</td>\n",
       "      <td>0.06</td>\n",
       "      <td>N</td>\n",
       "      <td>O</td>\n",
       "      <td>1996-04-12</td>\n",
       "      <td>1996-02-28</td>\n",
       "      <td>1996-04-20</td>\n",
       "      <td>TAKE BACK RETURN</td>\n",
       "      <td>MAIL</td>\n",
       "      <td>ly final dependencies: slyly bold</td>\n",
       "    </tr>\n",
       "    <tr>\n",
       "      <th>2</th>\n",
       "      <td>1</td>\n",
       "      <td>63700</td>\n",
       "      <td>3701</td>\n",
       "      <td>3</td>\n",
       "      <td>8.0</td>\n",
       "      <td>13309.60</td>\n",
       "      <td>0.10</td>\n",
       "      <td>0.02</td>\n",
       "      <td>N</td>\n",
       "      <td>O</td>\n",
       "      <td>1996-01-29</td>\n",
       "      <td>1996-03-05</td>\n",
       "      <td>1996-01-31</td>\n",
       "      <td>TAKE BACK RETURN</td>\n",
       "      <td>REG AIR</td>\n",
       "      <td>riously. regular, express dep</td>\n",
       "    </tr>\n",
       "    <tr>\n",
       "      <th>3</th>\n",
       "      <td>1</td>\n",
       "      <td>2132</td>\n",
       "      <td>4633</td>\n",
       "      <td>4</td>\n",
       "      <td>28.0</td>\n",
       "      <td>28955.64</td>\n",
       "      <td>0.09</td>\n",
       "      <td>0.06</td>\n",
       "      <td>N</td>\n",
       "      <td>O</td>\n",
       "      <td>1996-04-21</td>\n",
       "      <td>1996-03-30</td>\n",
       "      <td>1996-05-16</td>\n",
       "      <td>NONE</td>\n",
       "      <td>AIR</td>\n",
       "      <td>lites. fluffily even de</td>\n",
       "    </tr>\n",
       "    <tr>\n",
       "      <th>4</th>\n",
       "      <td>1</td>\n",
       "      <td>24027</td>\n",
       "      <td>1534</td>\n",
       "      <td>5</td>\n",
       "      <td>24.0</td>\n",
       "      <td>22824.48</td>\n",
       "      <td>0.10</td>\n",
       "      <td>0.04</td>\n",
       "      <td>N</td>\n",
       "      <td>O</td>\n",
       "      <td>1996-03-30</td>\n",
       "      <td>1996-03-14</td>\n",
       "      <td>1996-04-01</td>\n",
       "      <td>NONE</td>\n",
       "      <td>FOB</td>\n",
       "      <td>pending foxes. slyly re</td>\n",
       "    </tr>\n",
       "  </tbody>\n",
       "</table>\n",
       "</div>"
      ],
      "text/plain": [
       "   L_ORDERKEY  L_PARTKEY  L_SUPPKEY  L_LINENUMBER  L_QUANTITY  \\\n",
       "0           1     155190       7706             1        17.0   \n",
       "1           1      67310       7311             2        36.0   \n",
       "2           1      63700       3701             3         8.0   \n",
       "3           1       2132       4633             4        28.0   \n",
       "4           1      24027       1534             5        24.0   \n",
       "\n",
       "   L_EXTENDEDPRICE  L_DISCOUNT  L_TAX L_RETURNFLAG L_LINESTATUS L_SHIPDATE  \\\n",
       "0         21168.23        0.04   0.02            N            O 1996-03-13   \n",
       "1         45983.16        0.09   0.06            N            O 1996-04-12   \n",
       "2         13309.60        0.10   0.02            N            O 1996-01-29   \n",
       "3         28955.64        0.09   0.06            N            O 1996-04-21   \n",
       "4         22824.48        0.10   0.04            N            O 1996-03-30   \n",
       "\n",
       "  L_COMMITDATE L_RECEIPTDATE     L_SHIPINSTRUCT L_SHIPMODE  \\\n",
       "0   1996-02-12    1996-03-22  DELIVER IN PERSON      TRUCK   \n",
       "1   1996-02-28    1996-04-20   TAKE BACK RETURN       MAIL   \n",
       "2   1996-03-05    1996-01-31   TAKE BACK RETURN    REG AIR   \n",
       "3   1996-03-30    1996-05-16               NONE        AIR   \n",
       "4   1996-03-14    1996-04-01               NONE        FOB   \n",
       "\n",
       "                            L_COMMENT  \n",
       "0             egular courts above the  \n",
       "1  ly final dependencies: slyly bold   \n",
       "2       riously. regular, express dep  \n",
       "3             lites. fluffily even de  \n",
       "4             pending foxes. slyly re  "
      ]
     },
     "execution_count": 10,
     "metadata": {},
     "output_type": "execute_result"
    }
   ],
   "source": [
    "df = res.to_pandas()\n",
    "df.head()"
   ]
  },
  {
   "cell_type": "markdown",
   "id": "6fd48479-e6fe-4baf-9d84-236459d005d3",
   "metadata": {},
   "source": [
    "### Query with filters on L_QUANTITY"
   ]
  },
  {
   "cell_type": "code",
   "execution_count": 11,
   "id": "f3603d96-00e6-482c-8ccd-7f8c9e76524b",
   "metadata": {},
   "outputs": [
    {
     "data": {
      "text/plain": [
       "Result(statement='SELECT * FROM LINEITEM WHERE L_QUANTITY > 20 LIMIT 5')"
      ]
     },
     "execution_count": 11,
     "metadata": {},
     "output_type": "execute_result"
    }
   ],
   "source": [
    "res = data_source_obj.query(\"SELECT * FROM \" + TABLE_NAME +\" WHERE L_QUANTITY > 20 LIMIT 5\")\n",
    "res"
   ]
  },
  {
   "cell_type": "code",
   "execution_count": 12,
   "id": "cad8e75c-c71f-4b10-84a4-93c17ba226fe",
   "metadata": {},
   "outputs": [
    {
     "data": {
      "text/html": [
       "<div>\n",
       "<style scoped>\n",
       "    .dataframe tbody tr th:only-of-type {\n",
       "        vertical-align: middle;\n",
       "    }\n",
       "\n",
       "    .dataframe tbody tr th {\n",
       "        vertical-align: top;\n",
       "    }\n",
       "\n",
       "    .dataframe thead th {\n",
       "        text-align: right;\n",
       "    }\n",
       "</style>\n",
       "<table border=\"1\" class=\"dataframe\">\n",
       "  <thead>\n",
       "    <tr style=\"text-align: right;\">\n",
       "      <th></th>\n",
       "      <th>L_ORDERKEY</th>\n",
       "      <th>L_PARTKEY</th>\n",
       "      <th>L_SUPPKEY</th>\n",
       "      <th>L_LINENUMBER</th>\n",
       "      <th>L_QUANTITY</th>\n",
       "      <th>L_EXTENDEDPRICE</th>\n",
       "      <th>L_DISCOUNT</th>\n",
       "      <th>L_TAX</th>\n",
       "      <th>L_RETURNFLAG</th>\n",
       "      <th>L_LINESTATUS</th>\n",
       "      <th>L_SHIPDATE</th>\n",
       "      <th>L_COMMITDATE</th>\n",
       "      <th>L_RECEIPTDATE</th>\n",
       "      <th>L_SHIPINSTRUCT</th>\n",
       "      <th>L_SHIPMODE</th>\n",
       "      <th>L_COMMENT</th>\n",
       "    </tr>\n",
       "  </thead>\n",
       "  <tbody>\n",
       "    <tr>\n",
       "      <th>0</th>\n",
       "      <td>1</td>\n",
       "      <td>67310</td>\n",
       "      <td>7311</td>\n",
       "      <td>2</td>\n",
       "      <td>36.0</td>\n",
       "      <td>45983.16</td>\n",
       "      <td>0.09</td>\n",
       "      <td>0.06</td>\n",
       "      <td>N</td>\n",
       "      <td>O</td>\n",
       "      <td>1996-04-12</td>\n",
       "      <td>1996-02-28</td>\n",
       "      <td>1996-04-20</td>\n",
       "      <td>TAKE BACK RETURN</td>\n",
       "      <td>MAIL</td>\n",
       "      <td>ly final dependencies: slyly bold</td>\n",
       "    </tr>\n",
       "    <tr>\n",
       "      <th>1</th>\n",
       "      <td>1</td>\n",
       "      <td>2132</td>\n",
       "      <td>4633</td>\n",
       "      <td>4</td>\n",
       "      <td>28.0</td>\n",
       "      <td>28955.64</td>\n",
       "      <td>0.09</td>\n",
       "      <td>0.06</td>\n",
       "      <td>N</td>\n",
       "      <td>O</td>\n",
       "      <td>1996-04-21</td>\n",
       "      <td>1996-03-30</td>\n",
       "      <td>1996-05-16</td>\n",
       "      <td>NONE</td>\n",
       "      <td>AIR</td>\n",
       "      <td>lites. fluffily even de</td>\n",
       "    </tr>\n",
       "    <tr>\n",
       "      <th>2</th>\n",
       "      <td>1</td>\n",
       "      <td>24027</td>\n",
       "      <td>1534</td>\n",
       "      <td>5</td>\n",
       "      <td>24.0</td>\n",
       "      <td>22824.48</td>\n",
       "      <td>0.10</td>\n",
       "      <td>0.04</td>\n",
       "      <td>N</td>\n",
       "      <td>O</td>\n",
       "      <td>1996-03-30</td>\n",
       "      <td>1996-03-14</td>\n",
       "      <td>1996-04-01</td>\n",
       "      <td>NONE</td>\n",
       "      <td>FOB</td>\n",
       "      <td>pending foxes. slyly re</td>\n",
       "    </tr>\n",
       "    <tr>\n",
       "      <th>3</th>\n",
       "      <td>1</td>\n",
       "      <td>15635</td>\n",
       "      <td>638</td>\n",
       "      <td>6</td>\n",
       "      <td>32.0</td>\n",
       "      <td>49620.16</td>\n",
       "      <td>0.07</td>\n",
       "      <td>0.02</td>\n",
       "      <td>N</td>\n",
       "      <td>O</td>\n",
       "      <td>1996-01-30</td>\n",
       "      <td>1996-02-07</td>\n",
       "      <td>1996-02-03</td>\n",
       "      <td>DELIVER IN PERSON</td>\n",
       "      <td>MAIL</td>\n",
       "      <td>arefully slyly ex</td>\n",
       "    </tr>\n",
       "    <tr>\n",
       "      <th>4</th>\n",
       "      <td>2</td>\n",
       "      <td>106170</td>\n",
       "      <td>1191</td>\n",
       "      <td>1</td>\n",
       "      <td>38.0</td>\n",
       "      <td>44694.46</td>\n",
       "      <td>0.00</td>\n",
       "      <td>0.05</td>\n",
       "      <td>N</td>\n",
       "      <td>O</td>\n",
       "      <td>1997-01-28</td>\n",
       "      <td>1997-01-14</td>\n",
       "      <td>1997-02-02</td>\n",
       "      <td>TAKE BACK RETURN</td>\n",
       "      <td>RAIL</td>\n",
       "      <td>ven requests. deposits breach a</td>\n",
       "    </tr>\n",
       "  </tbody>\n",
       "</table>\n",
       "</div>"
      ],
      "text/plain": [
       "   L_ORDERKEY  L_PARTKEY  L_SUPPKEY  L_LINENUMBER  L_QUANTITY  \\\n",
       "0           1      67310       7311             2        36.0   \n",
       "1           1       2132       4633             4        28.0   \n",
       "2           1      24027       1534             5        24.0   \n",
       "3           1      15635        638             6        32.0   \n",
       "4           2     106170       1191             1        38.0   \n",
       "\n",
       "   L_EXTENDEDPRICE  L_DISCOUNT  L_TAX L_RETURNFLAG L_LINESTATUS L_SHIPDATE  \\\n",
       "0         45983.16        0.09   0.06            N            O 1996-04-12   \n",
       "1         28955.64        0.09   0.06            N            O 1996-04-21   \n",
       "2         22824.48        0.10   0.04            N            O 1996-03-30   \n",
       "3         49620.16        0.07   0.02            N            O 1996-01-30   \n",
       "4         44694.46        0.00   0.05            N            O 1997-01-28   \n",
       "\n",
       "  L_COMMITDATE L_RECEIPTDATE     L_SHIPINSTRUCT L_SHIPMODE  \\\n",
       "0   1996-02-28    1996-04-20   TAKE BACK RETURN       MAIL   \n",
       "1   1996-03-30    1996-05-16               NONE        AIR   \n",
       "2   1996-03-14    1996-04-01               NONE        FOB   \n",
       "3   1996-02-07    1996-02-03  DELIVER IN PERSON       MAIL   \n",
       "4   1997-01-14    1997-02-02   TAKE BACK RETURN       RAIL   \n",
       "\n",
       "                            L_COMMENT  \n",
       "0  ly final dependencies: slyly bold   \n",
       "1             lites. fluffily even de  \n",
       "2             pending foxes. slyly re  \n",
       "3                   arefully slyly ex  \n",
       "4     ven requests. deposits breach a  "
      ]
     },
     "execution_count": 12,
     "metadata": {},
     "output_type": "execute_result"
    }
   ],
   "source": [
    "df = res.to_pandas()\n",
    "df.head()"
   ]
  },
  {
   "cell_type": "markdown",
   "id": "1f2dbbb0-60f0-4c3a-baa8-f9614a605d1a",
   "metadata": {},
   "source": [
    "### Data Frame Operation"
   ]
  },
  {
   "cell_type": "code",
   "execution_count": 13,
   "id": "8d66d209-0fdf-4a61-b598-5d564b2a797a",
   "metadata": {},
   "outputs": [
    {
     "data": {
      "text/plain": [
       "31.6"
      ]
     },
     "execution_count": 13,
     "metadata": {},
     "output_type": "execute_result"
    }
   ],
   "source": [
    "COL = 'L_QUANTITY'\n",
    "df.loc[:,COL].mean()"
   ]
  },
  {
   "cell_type": "markdown",
   "id": "f43955c9-e176-4b78-ae77-d66ae33e9520",
   "metadata": {},
   "source": [
    "### Config Override"
   ]
  },
  {
   "cell_type": "code",
   "execution_count": 14,
   "id": "7ab30aad-cfa7-4f56-a43d-7cb3f548f1f5",
   "metadata": {},
   "outputs": [],
   "source": [
    "data_source_obj.update(data_sources.SnowflakeConfig(schema=\"TPCH_SF10\"))"
   ]
  },
  {
   "cell_type": "code",
   "execution_count": 15,
   "id": "2162817d-5641-4e7c-8dff-41654a288685",
   "metadata": {},
   "outputs": [
    {
     "data": {
      "text/plain": [
       "SnowflakeConfig(database=None, schema='TPCH_SF10', warehouse=None, role=None, password=None, username=None)"
      ]
     },
     "execution_count": 15,
     "metadata": {},
     "output_type": "execute_result"
    }
   ],
   "source": [
    "data_source_obj._config_override"
   ]
  },
  {
   "cell_type": "code",
   "execution_count": 16,
   "id": "2e6474fe-17a2-42cb-a2bd-fdb7eaf13bd5",
   "metadata": {},
   "outputs": [],
   "source": [
    "import json\n",
    "BASE_PATH =  r\"/home/ubuntu/\"\n",
    "with open( BASE_PATH+ 'ali_data.json') as json_file:\n",
    "    data = json.load(json_file)\n",
    "    SNOWFLAKE_USERNAME = data['SNOWFLAKE'][0]['username']\n",
    "    SNOWFLAKE_PASSWORD = data['SNOWFLAKE'][0]['password']"
   ]
  },
  {
   "cell_type": "code",
   "execution_count": 27,
   "id": "12dd12e7-3a6c-41d1-844a-63b027fced1a",
   "metadata": {},
   "outputs": [],
   "source": [
    "SNOW_CONF = data_sources.SnowflakeConfig(\n",
    "                        database='SNOWFLAKE_SAMPLE_DATA', \n",
    "                        schema='TPCH_SF100', \n",
    "                        warehouse='DOMINODATALAB', \n",
    "                        role=None)#, \n",
    "                        #password=SNOWFLAKE_PASSWORD, \n",
    "                        #username=SNOWFLAKE_USERNAME)\n"
   ]
  },
  {
   "cell_type": "code",
   "execution_count": 28,
   "id": "7ac10e3c-a51a-471a-b9f5-42256c785790",
   "metadata": {},
   "outputs": [],
   "source": [
    "data_source_obj.update(SNOW_CONF)"
   ]
  },
  {
   "cell_type": "code",
   "execution_count": 29,
   "id": "86319157-0999-48ac-85d1-c54c9d482644",
   "metadata": {},
   "outputs": [
    {
     "data": {
      "text/plain": [
       "Result(statement='select * from LINEITEM limit 100')"
      ]
     },
     "execution_count": 29,
     "metadata": {},
     "output_type": "execute_result"
    }
   ],
   "source": [
    "res = data_source_obj.query(\"select * from LINEITEM limit 100\")\n",
    "res"
   ]
  },
  {
   "cell_type": "code",
   "execution_count": 30,
   "id": "d0bad2d2-bbed-4ebb-8001-e31187ef9ff0",
   "metadata": {},
   "outputs": [
    {
     "data": {
      "text/html": [
       "<div>\n",
       "<style scoped>\n",
       "    .dataframe tbody tr th:only-of-type {\n",
       "        vertical-align: middle;\n",
       "    }\n",
       "\n",
       "    .dataframe tbody tr th {\n",
       "        vertical-align: top;\n",
       "    }\n",
       "\n",
       "    .dataframe thead th {\n",
       "        text-align: right;\n",
       "    }\n",
       "</style>\n",
       "<table border=\"1\" class=\"dataframe\">\n",
       "  <thead>\n",
       "    <tr style=\"text-align: right;\">\n",
       "      <th></th>\n",
       "      <th>L_ORDERKEY</th>\n",
       "      <th>L_PARTKEY</th>\n",
       "      <th>L_SUPPKEY</th>\n",
       "      <th>L_LINENUMBER</th>\n",
       "      <th>L_QUANTITY</th>\n",
       "      <th>L_EXTENDEDPRICE</th>\n",
       "      <th>L_DISCOUNT</th>\n",
       "      <th>L_TAX</th>\n",
       "      <th>L_RETURNFLAG</th>\n",
       "      <th>L_LINESTATUS</th>\n",
       "      <th>L_SHIPDATE</th>\n",
       "      <th>L_COMMITDATE</th>\n",
       "      <th>L_RECEIPTDATE</th>\n",
       "      <th>L_SHIPINSTRUCT</th>\n",
       "      <th>L_SHIPMODE</th>\n",
       "      <th>L_COMMENT</th>\n",
       "    </tr>\n",
       "  </thead>\n",
       "  <tbody>\n",
       "    <tr>\n",
       "      <th>0</th>\n",
       "      <td>103945062</td>\n",
       "      <td>17896995</td>\n",
       "      <td>147013</td>\n",
       "      <td>3</td>\n",
       "      <td>23.0</td>\n",
       "      <td>45795.30</td>\n",
       "      <td>0.02</td>\n",
       "      <td>0.02</td>\n",
       "      <td>N</td>\n",
       "      <td>O</td>\n",
       "      <td>1998-09-15</td>\n",
       "      <td>1998-10-08</td>\n",
       "      <td>1998-10-05</td>\n",
       "      <td>TAKE BACK RETURN</td>\n",
       "      <td>MAIL</td>\n",
       "      <td>even, ironic reques</td>\n",
       "    </tr>\n",
       "    <tr>\n",
       "      <th>1</th>\n",
       "      <td>103722405</td>\n",
       "      <td>11349359</td>\n",
       "      <td>349360</td>\n",
       "      <td>3</td>\n",
       "      <td>40.0</td>\n",
       "      <td>56311.60</td>\n",
       "      <td>0.04</td>\n",
       "      <td>0.00</td>\n",
       "      <td>N</td>\n",
       "      <td>O</td>\n",
       "      <td>1998-09-15</td>\n",
       "      <td>1998-09-08</td>\n",
       "      <td>1998-10-07</td>\n",
       "      <td>DELIVER IN PERSON</td>\n",
       "      <td>FOB</td>\n",
       "      <td>hs about the thin packages a</td>\n",
       "    </tr>\n",
       "    <tr>\n",
       "      <th>2</th>\n",
       "      <td>103620994</td>\n",
       "      <td>4200943</td>\n",
       "      <td>200944</td>\n",
       "      <td>3</td>\n",
       "      <td>28.0</td>\n",
       "      <td>51624.44</td>\n",
       "      <td>0.07</td>\n",
       "      <td>0.07</td>\n",
       "      <td>N</td>\n",
       "      <td>O</td>\n",
       "      <td>1998-09-15</td>\n",
       "      <td>1998-09-18</td>\n",
       "      <td>1998-09-17</td>\n",
       "      <td>NONE</td>\n",
       "      <td>TRUCK</td>\n",
       "      <td>d deposits wake bl</td>\n",
       "    </tr>\n",
       "    <tr>\n",
       "      <th>3</th>\n",
       "      <td>103615524</td>\n",
       "      <td>10260</td>\n",
       "      <td>760261</td>\n",
       "      <td>2</td>\n",
       "      <td>46.0</td>\n",
       "      <td>53831.96</td>\n",
       "      <td>0.07</td>\n",
       "      <td>0.01</td>\n",
       "      <td>N</td>\n",
       "      <td>O</td>\n",
       "      <td>1998-09-15</td>\n",
       "      <td>1998-09-03</td>\n",
       "      <td>1998-10-04</td>\n",
       "      <td>DELIVER IN PERSON</td>\n",
       "      <td>SHIP</td>\n",
       "      <td>onic, express dependencie</td>\n",
       "    </tr>\n",
       "    <tr>\n",
       "      <th>4</th>\n",
       "      <td>103887431</td>\n",
       "      <td>12485703</td>\n",
       "      <td>485704</td>\n",
       "      <td>1</td>\n",
       "      <td>13.0</td>\n",
       "      <td>21945.04</td>\n",
       "      <td>0.06</td>\n",
       "      <td>0.05</td>\n",
       "      <td>N</td>\n",
       "      <td>O</td>\n",
       "      <td>1998-09-15</td>\n",
       "      <td>1998-07-25</td>\n",
       "      <td>1998-09-22</td>\n",
       "      <td>TAKE BACK RETURN</td>\n",
       "      <td>RAIL</td>\n",
       "      <td>gular requests against the regular,</td>\n",
       "    </tr>\n",
       "  </tbody>\n",
       "</table>\n",
       "</div>"
      ],
      "text/plain": [
       "   L_ORDERKEY  L_PARTKEY  L_SUPPKEY  L_LINENUMBER  L_QUANTITY  \\\n",
       "0   103945062   17896995     147013             3        23.0   \n",
       "1   103722405   11349359     349360             3        40.0   \n",
       "2   103620994    4200943     200944             3        28.0   \n",
       "3   103615524      10260     760261             2        46.0   \n",
       "4   103887431   12485703     485704             1        13.0   \n",
       "\n",
       "   L_EXTENDEDPRICE  L_DISCOUNT  L_TAX L_RETURNFLAG L_LINESTATUS L_SHIPDATE  \\\n",
       "0         45795.30        0.02   0.02            N            O 1998-09-15   \n",
       "1         56311.60        0.04   0.00            N            O 1998-09-15   \n",
       "2         51624.44        0.07   0.07            N            O 1998-09-15   \n",
       "3         53831.96        0.07   0.01            N            O 1998-09-15   \n",
       "4         21945.04        0.06   0.05            N            O 1998-09-15   \n",
       "\n",
       "  L_COMMITDATE L_RECEIPTDATE     L_SHIPINSTRUCT L_SHIPMODE  \\\n",
       "0   1998-10-08    1998-10-05   TAKE BACK RETURN       MAIL   \n",
       "1   1998-09-08    1998-10-07  DELIVER IN PERSON        FOB   \n",
       "2   1998-09-18    1998-09-17               NONE      TRUCK   \n",
       "3   1998-09-03    1998-10-04  DELIVER IN PERSON       SHIP   \n",
       "4   1998-07-25    1998-09-22   TAKE BACK RETURN       RAIL   \n",
       "\n",
       "                             L_COMMENT  \n",
       "0                  even, ironic reques  \n",
       "1         hs about the thin packages a  \n",
       "2                   d deposits wake bl  \n",
       "3            onic, express dependencie  \n",
       "4  gular requests against the regular,  "
      ]
     },
     "execution_count": 30,
     "metadata": {},
     "output_type": "execute_result"
    }
   ],
   "source": [
    "df = res.to_pandas()\n",
    "df.head()"
   ]
  },
  {
   "cell_type": "markdown",
   "id": "cf791e3e-408c-4d85-a74b-cf40287b8f57",
   "metadata": {},
   "source": [
    "### Data Frame Operation"
   ]
  },
  {
   "cell_type": "code",
   "execution_count": 31,
   "id": "6d297aa0-778a-4bc8-8788-695100099603",
   "metadata": {},
   "outputs": [
    {
     "data": {
      "text/plain": [
       "24.8"
      ]
     },
     "execution_count": 31,
     "metadata": {},
     "output_type": "execute_result"
    }
   ],
   "source": [
    "COL = 'L_QUANTITY'\n",
    "df.loc[:,COL].mean()"
   ]
  },
  {
   "cell_type": "code",
   "execution_count": null,
   "id": "d71087c9-74ab-4c67-8b1e-2d4a43875689",
   "metadata": {},
   "outputs": [],
   "source": []
  }
 ],
 "metadata": {
  "kernelspec": {
   "display_name": "Python 3 (ipykernel)",
   "language": "python",
   "name": "python3"
  },
  "language_info": {
   "codemirror_mode": {
    "name": "ipython",
    "version": 3
   },
   "file_extension": ".py",
   "mimetype": "text/x-python",
   "name": "python",
   "nbconvert_exporter": "python",
   "pygments_lexer": "ipython3",
   "version": "3.8.12"
  }
 },
 "nbformat": 4,
 "nbformat_minor": 5
}
