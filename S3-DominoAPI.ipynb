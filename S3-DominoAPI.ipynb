{
 "cells": [
  {
   "cell_type": "markdown",
   "id": "d155c92e-9ceb-423c-8778-d835cbda050d",
   "metadata": {},
   "source": [
    "### Create S3 Connection\n",
    "\n",
    "#### Immutable variables:\n",
    "1. Data Store Selection (S3/snowflake/redshift)\n",
    "2. Data Source Name\n",
    "3. It has a permission/visibility(Everyone or Specific users or organizations)\n",
    "#### Mutable variables:\n",
    "1. Bucket Name\n",
    "2. Region Name\n",
    "3. Description (UI only)\n",
    "#### User/Pass variables (can be skipped while setup):\n",
    "1. credential id\n",
    "2. credential password\n",
    "\n",
    "#### The data Data Source must get successfully authenticated and set up in the UI    from domino import data_sources\n"
   ]
  },
  {
   "cell_type": "markdown",
   "id": "30219d79-f5f0-499a-b77c-f840d1b776f9",
   "metadata": {},
   "source": [
    "### Import Packages"
   ]
  },
  {
   "cell_type": "code",
   "execution_count": 2,
   "id": "aa25bfa2-06ae-4ea0-8307-7462234be9cc",
   "metadata": {},
   "outputs": [],
   "source": [
    "from domino import data_sources\n",
    "import os"
   ]
  },
  {
   "cell_type": "markdown",
   "id": "7fdc56ad-e4c2-4267-a4c5-bb291ffc8746",
   "metadata": {},
   "source": [
    "### Instantiate Client"
   ]
  },
  {
   "cell_type": "code",
   "execution_count": 10,
   "id": "6d68b0bb-455e-4600-86f5-1cada0b5c419",
   "metadata": {},
   "outputs": [
    {
     "data": {
      "text/plain": [
       "DataSourceClient(api_key='6801bae29833d8ebebfc2c957b755be181cda15ceedc3cf335f12c36fe995c90', token_file='/var/lib/domino/home/.api/token')"
      ]
     },
     "execution_count": 10,
     "metadata": {},
     "output_type": "execute_result"
    }
   ],
   "source": [
    "myClient = data_sources.DataSourceClient()\n",
    "myClient"
   ]
  },
  {
   "cell_type": "markdown",
   "id": "4385ff4d-e5c8-4de5-be22-5ae13d626be0",
   "metadata": {},
   "source": [
    "### Get Data Source"
   ]
  },
  {
   "cell_type": "code",
   "execution_count": 13,
   "id": "1c75b9e4-c631-4db7-903e-d02e07651111",
   "metadata": {},
   "outputs": [
    {
     "data": {
      "text/plain": [
       "ObjectStoreDatasource(config={'type': 'DataSourceS3Config', 'dataSourceType': 'S3Config', 'bucket': 's3regression', 'region': 'us-west-2'}, credential_type='Individual', datasource_type='S3Config', identifier='622c3a164b34ac6710742a02', name='ali-test-S3', owner='ddl-alireza')"
      ]
     },
     "execution_count": 13,
     "metadata": {},
     "output_type": "execute_result"
    }
   ],
   "source": [
    "DATA_SOURCE_NAME = \"ali-test-S3\"\n",
    "data_source_obj = myClient.get_datasource(DATA_SOURCE_NAME)\n",
    "data_source_obj"
   ]
  },
  {
   "cell_type": "markdown",
   "id": "a89d0be7-897b-47a7-a2d0-0c51f738f12b",
   "metadata": {},
   "source": [
    "### Identifier"
   ]
  },
  {
   "cell_type": "code",
   "execution_count": 14,
   "id": "dc937d74-fbbf-4126-9f71-5861228b4e10",
   "metadata": {},
   "outputs": [
    {
     "data": {
      "text/plain": [
       "'622c3a164b34ac6710742a02'"
      ]
     },
     "execution_count": 14,
     "metadata": {},
     "output_type": "execute_result"
    }
   ],
   "source": [
    "data_source_obj.identifier"
   ]
  },
  {
   "cell_type": "markdown",
   "id": "47b7e1ba-45f8-49fc-bc4e-533e9be76c56",
   "metadata": {},
   "source": [
    "### List Ojbects in our Data Source"
   ]
  },
  {
   "cell_type": "code",
   "execution_count": 49,
   "id": "7528454e-9964-4336-a75c-595e1ee2709d",
   "metadata": {},
   "outputs": [
    {
     "data": {
      "text/plain": [
       "[_Object(key='Andrews_files/actual_house_prices.csv'),\n",
       " _Object(key='Andrews_files/gt_actual_pred.csv'),\n",
       " _Object(key='Andrews_files/housing-pred-data.csv'),\n",
       " _Object(key='Andrews_files/kc_house_data.csv')]"
      ]
     },
     "execution_count": 49,
     "metadata": {},
     "output_type": "execute_result"
    }
   ],
   "source": [
    "obj_list = [x for x in data_source_obj.list_objects()]\n",
    "obj_list[:4]"
   ]
  },
  {
   "cell_type": "markdown",
   "id": "0071634a-5a38-4854-8cc4-4d2b17a0fac4",
   "metadata": {},
   "source": [
    "### Read/Download from S3"
   ]
  },
  {
   "cell_type": "code",
   "execution_count": 22,
   "id": "b2ae27a2-2056-4c28-88f2-cb5a8512b55a",
   "metadata": {},
   "outputs": [],
   "source": [
    "# Key object\n",
    "file_name = \"Test data - Predictionnew1.csv\"\n",
    "\n",
    "my_key = data_source_obj.Object(file_name)\n",
    "\n",
    "# GEt content as binary\n",
    "content = my_key.get()\n",
    "\n",
    "# Downlaoding \n",
    "data_source_obj.Object(file_name).download_file(file_name)"
   ]
  },
  {
   "cell_type": "markdown",
   "id": "2a690d5f-cee3-4c05-b21d-78cfbf915b99",
   "metadata": {},
   "source": [
    "### Config Override "
   ]
  },
  {
   "cell_type": "code",
   "execution_count": 23,
   "id": "e6b93dd1-cd1e-4302-8daa-f929ae3ae53d",
   "metadata": {},
   "outputs": [],
   "source": [
    "S3CONFIG = data_sources.S3Config(bucket=\"kaggle-test-ali\", \n",
    "                     region=\"us-west-2\", \n",
    "                     aws_access_key_id=\"\", \n",
    "                     aws_secret_access_key=\"\")"
   ]
  },
  {
   "cell_type": "code",
   "execution_count": 41,
   "id": "15dc0e11-8a16-40e4-8080-b57a740abd17",
   "metadata": {},
   "outputs": [
    {
     "data": {
      "text/plain": [
       "[_Object(key='test-folder1/pink.png')]"
      ]
     },
     "execution_count": 41,
     "metadata": {},
     "output_type": "execute_result"
    }
   ],
   "source": [
    "data_source_obj.update(S3CONFIG)\n",
    "obj_list = [x for x in data_source_obj.list_objects()]\n",
    "obj_list"
   ]
  },
  {
   "cell_type": "markdown",
   "id": "3775b203-ba95-4984-aab4-ebe7500686f5",
   "metadata": {},
   "source": [
    "### Write/Upload to S3"
   ]
  },
  {
   "cell_type": "code",
   "execution_count": 42,
   "id": "a94953ee-504f-4ec7-ba2c-f654d8a2faaa",
   "metadata": {},
   "outputs": [],
   "source": [
    "# put binary content to given object key\n",
    "data_source_obj.put(\"example.txt\", b\"S3 Example\")"
   ]
  },
  {
   "cell_type": "code",
   "execution_count": 43,
   "id": "ae2309aa-503a-4cd0-a756-a648c17b29af",
   "metadata": {},
   "outputs": [],
   "source": [
    "#Uload file-like content to specified object key\n",
    "import io\n",
    "f = io.BytesIO(b\"files in here\")\n",
    "data_source_obj.upload_fileobj(\"testBytesIO.txt\", f)"
   ]
  },
  {
   "cell_type": "code",
   "execution_count": 44,
   "id": "d5c088b4-c131-4e83-8f1f-2968107ec981",
   "metadata": {},
   "outputs": [],
   "source": [
    "# Upload file content to specified object key\n",
    "data_source_obj.upload_file(\"exampleS3.txt\", \"exampleS3.txt\")"
   ]
  },
  {
   "cell_type": "code",
   "execution_count": 45,
   "id": "bf6eb9bd-e6f4-409b-b873-47e122885548",
   "metadata": {},
   "outputs": [
    {
     "data": {
      "text/plain": [
       "[_Object(key='example.txt'),\n",
       " _Object(key='exampleS3.txt'),\n",
       " _Object(key='test-folder1/pink.png'),\n",
       " _Object(key='testBytesIO.txt')]"
      ]
     },
     "execution_count": 45,
     "metadata": {},
     "output_type": "execute_result"
    }
   ],
   "source": [
    "obj_list = [x for x in data_source_obj.list_objects()]\n",
    "obj_list"
   ]
  },
  {
   "cell_type": "markdown",
   "id": "42ad78c7-a65d-43d3-b962-ad1087c985a7",
   "metadata": {},
   "source": [
    "### Reset Config"
   ]
  },
  {
   "cell_type": "code",
   "execution_count": 46,
   "id": "90e654c6-e0b1-44d2-94e7-f93918f8c4e6",
   "metadata": {},
   "outputs": [],
   "source": [
    "data_source_obj.reset_config()"
   ]
  },
  {
   "cell_type": "code",
   "execution_count": 48,
   "id": "d5fd8343-b9d2-44cf-be5c-268685aeabd0",
   "metadata": {},
   "outputs": [
    {
     "data": {
      "text/plain": [
       "[_Object(key='Andrews_files/actual_house_prices.csv'),\n",
       " _Object(key='Andrews_files/gt_actual_pred.csv'),\n",
       " _Object(key='Andrews_files/housing-pred-data.csv'),\n",
       " _Object(key='Andrews_files/kc_house_data.csv')]"
      ]
     },
     "execution_count": 48,
     "metadata": {},
     "output_type": "execute_result"
    }
   ],
   "source": [
    "obj_list = [x for x in data_source_obj.list_objects()]\n",
    "obj_list[:4]"
   ]
  }
 ],
 "metadata": {
  "kernelspec": {
   "display_name": "Python 3 (ipykernel)",
   "language": "python",
   "name": "python3"
  },
  "language_info": {
   "codemirror_mode": {
    "name": "ipython",
    "version": 3
   },
   "file_extension": ".py",
   "mimetype": "text/x-python",
   "name": "python",
   "nbconvert_exporter": "python",
   "pygments_lexer": "ipython3",
   "version": "3.8.12"
  }
 },
 "nbformat": 4,
 "nbformat_minor": 5
}
